{
 "cells": [
  {
   "cell_type": "code",
   "execution_count": 1,
   "id": "1925be91",
   "metadata": {
    "ExecuteTime": {
     "end_time": "2021-12-26T18:16:02.961430Z",
     "start_time": "2021-12-26T18:16:02.845649Z"
    }
   },
   "outputs": [
    {
     "name": "stderr",
     "output_type": "stream",
     "text": [
      "[advent] Getting input for year 2020 day 5... done (from disk).\n"
     ]
    }
   ],
   "source": [
    "from aoc_helpers import advent\n",
    "\n",
    "advent.setup(2020, 5)\n",
    "fin = advent.get_input()"
   ]
  },
  {
   "cell_type": "code",
   "execution_count": 2,
   "id": "ea25cccd",
   "metadata": {
    "ExecuteTime": {
     "end_time": "2021-12-26T18:16:02.976768Z",
     "start_time": "2021-12-26T18:16:02.962410Z"
    }
   },
   "outputs": [],
   "source": [
    "#faster way to 'translate' a string to other characters\n",
    "table = str.maketrans('BFRL', '1010')\n",
    "seats = fin.read().translate(table).splitlines()\n",
    "seat_id = tuple(map(lambda s: int(s,2), seats))\n",
    "\n",
    "max_id = max(seat_id)\n",
    "min_id = min(seat_id)"
   ]
  },
  {
   "cell_type": "code",
   "execution_count": 3,
   "id": "80b0d444",
   "metadata": {
    "ExecuteTime": {
     "end_time": "2021-12-26T18:16:02.992478Z",
     "start_time": "2021-12-26T18:16:02.977768Z"
    }
   },
   "outputs": [],
   "source": [
    "# seat_id = []\n",
    "# for code in seats:\n",
    "#     code = code.replace('F','0').replace('B','1').replace('R','1').replace('L','0')\n",
    "#     row = int(code[:7], 2)\n",
    "#     seat = int(code[7:], 2)\n",
    "#     seat_id.append(row*8 + seat)\n",
    "#     print('x: {}, row: {}, seat: {}, seat_id: {}'.format(x,int(row,2), int(seat,2), seat_id[-1]))"
   ]
  },
  {
   "cell_type": "code",
   "execution_count": 4,
   "id": "2ed20064",
   "metadata": {
    "ExecuteTime": {
     "end_time": "2021-12-26T18:16:03.007476Z",
     "start_time": "2021-12-26T18:16:02.993471Z"
    }
   },
   "outputs": [
    {
     "name": "stdout",
     "output_type": "stream",
     "text": [
      "Part 1: 944\n",
      "Part 2: 554\n"
     ]
    }
   ],
   "source": [
    "expected = (max_id * (max_id + 1) // 2) - (min_id * (min_id -1) // 2)\n",
    "my_id = expected - sum(seat_id)\n",
    "\n",
    "print('Part 1: {}'.format(max_id))\n",
    "print('Part 2: {}'.format(my_id))"
   ]
  }
 ],
 "metadata": {
  "kernelspec": {
   "display_name": "py9",
   "language": "python",
   "name": "py9"
  },
  "language_info": {
   "codemirror_mode": {
    "name": "ipython",
    "version": 3
   },
   "file_extension": ".py",
   "mimetype": "text/x-python",
   "name": "python",
   "nbconvert_exporter": "python",
   "pygments_lexer": "ipython3",
   "version": "3.9.7"
  }
 },
 "nbformat": 4,
 "nbformat_minor": 5
}
