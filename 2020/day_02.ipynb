{
 "cells": [
  {
   "cell_type": "code",
   "execution_count": 1,
   "id": "ebf434bf",
   "metadata": {
    "ExecuteTime": {
     "end_time": "2021-12-24T02:40:16.068393Z",
     "start_time": "2021-12-24T02:40:15.963961Z"
    }
   },
   "outputs": [
    {
     "name": "stderr",
     "output_type": "stream",
     "text": [
      "[advent] Getting input for year 2020 day 2... done (from disk).\n"
     ]
    }
   ],
   "source": [
    "from aoc_helpers import advent\n",
    "import re\n",
    "\n",
    "advent.setup(2020,2)\n",
    "fin = advent.get_input()"
   ]
  },
  {
   "cell_type": "code",
   "execution_count": 2,
   "id": "446f3369",
   "metadata": {
    "ExecuteTime": {
     "end_time": "2021-12-24T02:40:16.074248Z",
     "start_time": "2021-12-24T02:40:16.069368Z"
    }
   },
   "outputs": [],
   "source": [
    "data = fin.read()\n",
    "policies = re.findall(r'(\\d+)-(\\d+) (\\w): (\\w+)', data)"
   ]
  },
  {
   "cell_type": "code",
   "execution_count": 7,
   "id": "f0a41fb9",
   "metadata": {
    "ExecuteTime": {
     "end_time": "2021-12-24T02:50:23.637811Z",
     "start_time": "2021-12-24T02:50:23.632931Z"
    }
   },
   "outputs": [
    {
     "name": "stdout",
     "output_type": "stream",
     "text": [
      "416\n",
      "688\n"
     ]
    }
   ],
   "source": [
    "valid1 = valid2 = 0\n",
    "\n",
    "for minn, maxn, letter, password in policies:\n",
    "    minn, maxn = int(minn), int(maxn)\n",
    "    \n",
    "    if minn <= password.count(letter) <= maxn:\n",
    "        valid1 += 1\n",
    "        \n",
    "    if (password[minn-1] == letter) ^ (password[maxn-1] == letter):\n",
    "        valid2 += 1\n",
    "        \n",
    "print(valid1)\n",
    "print(valid2)"
   ]
  },
  {
   "cell_type": "code",
   "execution_count": null,
   "id": "499b48fa",
   "metadata": {},
   "outputs": [],
   "source": []
  }
 ],
 "metadata": {
  "kernelspec": {
   "display_name": "py9",
   "language": "python",
   "name": "py9"
  },
  "language_info": {
   "codemirror_mode": {
    "name": "ipython",
    "version": 3
   },
   "file_extension": ".py",
   "mimetype": "text/x-python",
   "name": "python",
   "nbconvert_exporter": "python",
   "pygments_lexer": "ipython3",
   "version": "3.9.7"
  }
 },
 "nbformat": 4,
 "nbformat_minor": 5
}
