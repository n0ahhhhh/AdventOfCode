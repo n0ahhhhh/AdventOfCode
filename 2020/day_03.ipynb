{
 "cells": [
  {
   "cell_type": "code",
   "execution_count": 1,
   "id": "cd54e72b",
   "metadata": {
    "ExecuteTime": {
     "end_time": "2021-12-24T03:24:45.904229Z",
     "start_time": "2021-12-24T03:24:45.798254Z"
    }
   },
   "outputs": [
    {
     "name": "stderr",
     "output_type": "stream",
     "text": [
      "[advent] Getting input for year 2020 day 3... done (from disk).\n"
     ]
    }
   ],
   "source": [
    "from aoc_helpers import advent\n",
    "from itertools import count\n",
    "\n",
    "advent.setup(2020, 3)\n",
    "fin = advent.get_input()"
   ]
  },
  {
   "cell_type": "code",
   "execution_count": 2,
   "id": "5746f829",
   "metadata": {
    "ExecuteTime": {
     "end_time": "2021-12-24T03:24:45.908138Z",
     "start_time": "2021-12-24T03:24:45.905206Z"
    }
   },
   "outputs": [],
   "source": [
    "land = [l.rstrip() for l in fin]\n",
    "height, width = len(land), len(land[0])"
   ]
  },
  {
   "cell_type": "code",
   "execution_count": 3,
   "id": "22909661",
   "metadata": {
    "ExecuteTime": {
     "end_time": "2021-12-24T03:24:45.913018Z",
     "start_time": "2021-12-24T03:24:45.909115Z"
    }
   },
   "outputs": [
    {
     "name": "stdout",
     "output_type": "stream",
     "text": [
      "234\n"
     ]
    }
   ],
   "source": [
    "trees = col = 0\n",
    "\n",
    "for row, col in zip(range(height), count(0, 3)):\n",
    "    if land[row][col % width] == '#':\n",
    "        trees += 1\n",
    "\n",
    "print(trees)"
   ]
  },
  {
   "cell_type": "code",
   "execution_count": 4,
   "id": "7051b844",
   "metadata": {
    "ExecuteTime": {
     "end_time": "2021-12-24T03:24:45.917437Z",
     "start_time": "2021-12-24T03:24:45.913994Z"
    }
   },
   "outputs": [
    {
     "name": "stdout",
     "output_type": "stream",
     "text": [
      "5813773056\n"
     ]
    }
   ],
   "source": [
    "slopes = ((1,1), (1,5), (1,7), (2,1))\n",
    "total = trees\n",
    "\n",
    "for dr, dc in slopes:\n",
    "    trees = 0\n",
    "    for row, col in zip(range(0,height,dr), count(0, dc)):\n",
    "        if land[row][col % width] == '#':\n",
    "            trees += 1\n",
    "    total *= trees\n",
    "    \n",
    "print(total)"
   ]
  }
 ],
 "metadata": {
  "kernelspec": {
   "display_name": "py9",
   "language": "python",
   "name": "py9"
  },
  "language_info": {
   "codemirror_mode": {
    "name": "ipython",
    "version": 3
   },
   "file_extension": ".py",
   "mimetype": "text/x-python",
   "name": "python",
   "nbconvert_exporter": "python",
   "pygments_lexer": "ipython3",
   "version": "3.9.7"
  }
 },
 "nbformat": 4,
 "nbformat_minor": 5
}
