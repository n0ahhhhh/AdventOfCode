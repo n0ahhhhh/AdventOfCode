{
 "cells": [
  {
   "cell_type": "code",
   "execution_count": 1,
   "id": "c201f40a",
   "metadata": {
    "ExecuteTime": {
     "end_time": "2021-12-24T02:10:28.945360Z",
     "start_time": "2021-12-24T02:10:28.840928Z"
    }
   },
   "outputs": [
    {
     "name": "stderr",
     "output_type": "stream",
     "text": [
      "[advent] Getting input for year 2020 day 1... done (from disk).\n"
     ]
    }
   ],
   "source": [
    "from aoc_helpers import advent\n",
    "\n",
    "advent.setup(2020,1)\n",
    "fin = advent.get_input()"
   ]
  },
  {
   "cell_type": "code",
   "execution_count": 2,
   "id": "7423f7a6",
   "metadata": {
    "ExecuteTime": {
     "end_time": "2021-12-24T02:10:28.949264Z",
     "start_time": "2021-12-24T02:10:28.946336Z"
    }
   },
   "outputs": [],
   "source": [
    "numbers = tuple(map(int, fin.readlines()))\n",
    "comp = set()"
   ]
  },
  {
   "cell_type": "code",
   "execution_count": 3,
   "id": "ba541c44",
   "metadata": {
    "ExecuteTime": {
     "end_time": "2021-12-24T02:10:28.954144Z",
     "start_time": "2021-12-24T02:10:28.950240Z"
    }
   },
   "outputs": [
    {
     "name": "stdout",
     "output_type": "stream",
     "text": [
      "996075\n"
     ]
    }
   ],
   "source": [
    "for x in numbers:\n",
    "    y = 2020 - x\n",
    "    \n",
    "    if x in comp:\n",
    "        ans = x*y\n",
    "        break\n",
    "    \n",
    "    comp.add(y)\n",
    "    \n",
    "print(ans)"
   ]
  },
  {
   "cell_type": "code",
   "execution_count": 4,
   "id": "8cd7e26f",
   "metadata": {
    "ExecuteTime": {
     "end_time": "2021-12-24T02:10:28.962927Z",
     "start_time": "2021-12-24T02:10:28.954144Z"
    }
   },
   "outputs": [
    {
     "name": "stdout",
     "output_type": "stream",
     "text": [
      "51810360\n"
     ]
    }
   ],
   "source": [
    "for i, x in enumerate(numbers):\n",
    "    compls = set()\n",
    "    yz = 2020 - x\n",
    "    \n",
    "    for y in numbers[i + 1:]:\n",
    "        z = yz - y\n",
    "        \n",
    "        if y in compls:\n",
    "            ans = x * y * z\n",
    "            break\n",
    "            \n",
    "        compls.add(z)    \n",
    "print(ans)"
   ]
  }
 ],
 "metadata": {
  "kernelspec": {
   "display_name": "py9",
   "language": "python",
   "name": "py9"
  },
  "language_info": {
   "codemirror_mode": {
    "name": "ipython",
    "version": 3
   },
   "file_extension": ".py",
   "mimetype": "text/x-python",
   "name": "python",
   "nbconvert_exporter": "python",
   "pygments_lexer": "ipython3",
   "version": "3.9.7"
  }
 },
 "nbformat": 4,
 "nbformat_minor": 5
}
