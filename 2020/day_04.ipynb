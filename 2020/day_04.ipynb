{
 "cells": [
  {
   "cell_type": "code",
   "execution_count": 2,
   "id": "8e30e801",
   "metadata": {
    "ExecuteTime": {
     "end_time": "2021-12-24T03:37:32.569278Z",
     "start_time": "2021-12-24T03:37:32.564462Z"
    }
   },
   "outputs": [
    {
     "name": "stderr",
     "output_type": "stream",
     "text": [
      "[advent] Getting input for year 2020 day 4... done (from disk).\n"
     ]
    }
   ],
   "source": [
    "from aoc_helpers import advent\n",
    "\n",
    "advent.setup(2020, 4)\n",
    "fin = advent.get_input()\n",
    "passports = fin.read().split('\\n\\n')"
   ]
  },
  {
   "cell_type": "code",
   "execution_count": 5,
   "id": "56027fd0",
   "metadata": {
    "ExecuteTime": {
     "end_time": "2021-12-24T04:05:23.747953Z",
     "start_time": "2021-12-24T04:05:23.744075Z"
    }
   },
   "outputs": [
    {
     "name": "stdout",
     "output_type": "stream",
     "text": [
      "247\n"
     ]
    }
   ],
   "source": [
    "keys = ('byr:', 'iyr:', 'eyr:', 'hgt:', 'hcl:', 'ecl:', 'pid:')"
   ]
  },
  {
   "cell_type": "code",
   "execution_count": 12,
   "id": "48cf286c",
   "metadata": {
    "ExecuteTime": {
     "end_time": "2021-12-26T07:04:49.728517Z",
     "start_time": "2021-12-26T07:04:49.709536Z"
    }
   },
   "outputs": [
    {
     "name": "stdout",
     "output_type": "stream",
     "text": [
      "Part 1:  247\n",
      "Part 2:  145\n"
     ]
    }
   ],
   "source": [
    "def check_height(v):\n",
    "    if v.endswith('cm'):\n",
    "        return 150 <= int(v[:-2]) <= 193\n",
    "    if v.endswith('in'):\n",
    "        return 59 <= int(v[:-2]) <= 76\n",
    "    return False\n",
    "\n",
    "checks = {\n",
    "    'byr': lambda v: 1920 <= int(v) <= 2002,\n",
    "    'iyr': lambda v: 2010 <= int(v) <= 2020,\n",
    "    'eyr': lambda v: 2020 <= int(v) <= 2030,\n",
    "    'pid': lambda v: len(v) == 9 and all(c.isdigit() for c in v),\n",
    "    'hcl': lambda v: len(v) == 7 and all(c.isdigit() or c in 'abcdef' for c in v[1:]),\n",
    "    'ecl': lambda v: v in ('amb', 'blu', 'brn', 'gry', 'grn', 'hzl', 'oth'),\n",
    "    'cid': lambda v: True,\n",
    "    'hgt': check_height\n",
    "}\n",
    "\n",
    "n_valid1 = n_valid2 = 0\n",
    "for raw in passports:\n",
    "    if all(k in raw for k in keys):\n",
    "        n_valid1 += 1\n",
    "        passport = (field.split(':') for field in raw.split())\n",
    "    \n",
    "        if all (checks[k](v) for k, v in passport):\n",
    "            n_valid2 += 1\n",
    "            \n",
    "print('Part 1: ', n_valid1)\n",
    "print('Part 2: ', n_valid2)"
   ]
  }
 ],
 "metadata": {
  "kernelspec": {
   "display_name": "py9",
   "language": "python",
   "name": "py9"
  },
  "language_info": {
   "codemirror_mode": {
    "name": "ipython",
    "version": 3
   },
   "file_extension": ".py",
   "mimetype": "text/x-python",
   "name": "python",
   "nbconvert_exporter": "python",
   "pygments_lexer": "ipython3",
   "version": "3.9.7"
  }
 },
 "nbformat": 4,
 "nbformat_minor": 5
}
