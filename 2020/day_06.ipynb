{
 "cells": [
  {
   "cell_type": "code",
   "execution_count": 1,
   "id": "227a939a",
   "metadata": {
    "ExecuteTime": {
     "end_time": "2021-12-26T19:04:10.404779Z",
     "start_time": "2021-12-26T19:04:10.294455Z"
    }
   },
   "outputs": [
    {
     "name": "stderr",
     "output_type": "stream",
     "text": [
      "[advent] Getting input for year 2020 day 6... done (from disk).\n"
     ]
    }
   ],
   "source": [
    "from aoc_helpers import advent\n",
    "\n",
    "advent.setup(2020, 6)\n",
    "fin = advent.get_input()"
   ]
  },
  {
   "cell_type": "code",
   "execution_count": 2,
   "id": "67e633d7",
   "metadata": {
    "ExecuteTime": {
     "end_time": "2021-12-26T19:04:10.408683Z",
     "start_time": "2021-12-26T19:04:10.405755Z"
    }
   },
   "outputs": [],
   "source": [
    "raw_groups = fin.read().split('\\n\\n')\n",
    "groups = map(lambda g: g.replace('\\n',''), raw_groups)"
   ]
  },
  {
   "cell_type": "code",
   "execution_count": 3,
   "id": "f50d0771",
   "metadata": {
    "ExecuteTime": {
     "end_time": "2021-12-26T19:04:10.413563Z",
     "start_time": "2021-12-26T19:04:10.408683Z"
    }
   },
   "outputs": [
    {
     "name": "stdout",
     "output_type": "stream",
     "text": [
      "Part 1: 6947\n"
     ]
    }
   ],
   "source": [
    "any_yes = sum(map(len, map(set, groups)))\n",
    "print('Part 1:', any_yes)"
   ]
  },
  {
   "cell_type": "code",
   "execution_count": 4,
   "id": "244c282e",
   "metadata": {
    "ExecuteTime": {
     "end_time": "2021-12-26T19:04:10.417468Z",
     "start_time": "2021-12-26T19:04:10.414539Z"
    }
   },
   "outputs": [],
   "source": [
    "groups = map(lambda g: map(set, g.splitlines()), raw_groups)"
   ]
  },
  {
   "cell_type": "code",
   "execution_count": 5,
   "id": "9d16422e",
   "metadata": {
    "ExecuteTime": {
     "end_time": "2021-12-26T19:04:10.424804Z",
     "start_time": "2021-12-26T19:04:10.417468Z"
    }
   },
   "outputs": [
    {
     "name": "stdout",
     "output_type": "stream",
     "text": [
      "Part 2: 3398\n"
     ]
    }
   ],
   "source": [
    "all_yes = sum(len(set.intersection(*g)) for g in groups)\n",
    "print('Part 2:', all_yes)"
   ]
  }
 ],
 "metadata": {
  "kernelspec": {
   "display_name": "py9",
   "language": "python",
   "name": "py9"
  },
  "language_info": {
   "codemirror_mode": {
    "name": "ipython",
    "version": 3
   },
   "file_extension": ".py",
   "mimetype": "text/x-python",
   "name": "python",
   "nbconvert_exporter": "python",
   "pygments_lexer": "ipython3",
   "version": "3.9.7"
  }
 },
 "nbformat": 4,
 "nbformat_minor": 5
}
