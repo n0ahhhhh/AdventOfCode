{
 "cells": [
  {
   "cell_type": "code",
   "execution_count": 1,
   "id": "e24626c3-520d-4087-86f8-c7ff98b2d2e7",
   "metadata": {
    "execution": {
     "iopub.execute_input": "2022-12-01T16:38:44.979049Z",
     "iopub.status.busy": "2022-12-01T16:38:44.979049Z",
     "iopub.status.idle": "2022-12-01T16:38:45.485308Z",
     "shell.execute_reply": "2022-12-01T16:38:45.485308Z",
     "shell.execute_reply.started": "2022-12-01T16:38:44.979049Z"
    }
   },
   "outputs": [
    {
     "name": "stderr",
     "output_type": "stream",
     "text": [
      "[advent] Getting input for year 2022 day 1... done (from disk).\n"
     ]
    }
   ],
   "source": [
    "from aoc_helpers import advent\n",
    "\n",
    "advent.setup(2022, 1)\n",
    "fin = advent.get_input()\n",
    "\n",
    "chunks = fin.read().split('\\n\\n')\n",
    "chunks = [tuple(map(int, chunk.split())) for chunk in chunks]"
   ]
  },
  {
   "cell_type": "code",
   "execution_count": 2,
   "id": "d3cdf15c-65c7-462c-9626-ad34d01e8c01",
   "metadata": {
    "execution": {
     "iopub.execute_input": "2022-12-01T16:38:45.486284Z",
     "iopub.status.busy": "2022-12-01T16:38:45.486284Z",
     "iopub.status.idle": "2022-12-01T16:38:45.490192Z",
     "shell.execute_reply": "2022-12-01T16:38:45.490192Z",
     "shell.execute_reply.started": "2022-12-01T16:38:45.486284Z"
    },
    "tags": []
   },
   "outputs": [
    {
     "name": "stdout",
     "output_type": "stream",
     "text": [
      "Part 1: 66306\n"
     ]
    }
   ],
   "source": [
    "most = max(map(sum, chunks))\n",
    "advent.print_answer(1, most)"
   ]
  },
  {
   "cell_type": "code",
   "execution_count": 3,
   "id": "512ff7c1-f022-42b7-855d-ee6816586f3a",
   "metadata": {
    "execution": {
     "iopub.execute_input": "2022-12-01T16:38:45.491170Z",
     "iopub.status.busy": "2022-12-01T16:38:45.491170Z",
     "iopub.status.idle": "2022-12-01T16:38:45.502733Z",
     "shell.execute_reply": "2022-12-01T16:38:45.502733Z",
     "shell.execute_reply.started": "2022-12-01T16:38:45.491170Z"
    },
    "tags": []
   },
   "outputs": [
    {
     "name": "stdout",
     "output_type": "stream",
     "text": [
      "Part 2: 195292\n"
     ]
    }
   ],
   "source": [
    "chunks.sort(key=sum, reverse=True)\n",
    "top3 = sum(map(sum, chunks[:3]))\n",
    "advent.print_answer(2,top3)"
   ]
  }
 ],
 "metadata": {
  "kernelspec": {
   "display_name": "Python 3 (ipykernel)",
   "language": "python",
   "name": "python3"
  },
  "language_info": {
   "codemirror_mode": {
    "name": "ipython",
    "version": 3
   },
   "file_extension": ".py",
   "mimetype": "text/x-python",
   "name": "python",
   "nbconvert_exporter": "python",
   "pygments_lexer": "ipython3",
   "version": "3.10.2"
  },
  "widgets": {
   "application/vnd.jupyter.widget-state+json": {
    "state": {},
    "version_major": 2,
    "version_minor": 0
   }
  }
 },
 "nbformat": 4,
 "nbformat_minor": 5
}
