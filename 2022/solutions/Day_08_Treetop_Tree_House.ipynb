{
 "cells": [
  {
   "cell_type": "code",
   "execution_count": 1,
   "id": "a0ab4fab-164e-4134-907d-d5131f19e6e6",
   "metadata": {
    "execution": {
     "iopub.execute_input": "2022-12-08T20:24:51.900232Z",
     "iopub.status.busy": "2022-12-08T20:24:51.900232Z",
     "iopub.status.idle": "2022-12-08T20:24:52.418045Z",
     "shell.execute_reply": "2022-12-08T20:24:52.418045Z",
     "shell.execute_reply.started": "2022-12-08T20:24:51.900232Z"
    }
   },
   "outputs": [
    {
     "name": "stderr",
     "output_type": "stream",
     "text": [
      "[advent] Getting input for year 2022 day 8... done (from disk).\n"
     ]
    }
   ],
   "source": [
    "from aoc_helpers import advent\n",
    "\n",
    "advent.setup(2022, 8)\n",
    "fin = advent.get_input()\n",
    "trees = fin.read().split()"
   ]
  },
  {
   "cell_type": "code",
   "execution_count": 2,
   "id": "6ba6c3e0-9e22-4173-8dab-a7ce231bf581",
   "metadata": {
    "execution": {
     "iopub.execute_input": "2022-12-08T20:24:52.419038Z",
     "iopub.status.busy": "2022-12-08T20:24:52.419038Z",
     "iopub.status.idle": "2022-12-08T20:24:52.480877Z",
     "shell.execute_reply": "2022-12-08T20:24:52.480877Z",
     "shell.execute_reply.started": "2022-12-08T20:24:52.419038Z"
    },
    "tags": []
   },
   "outputs": [
    {
     "name": "stdout",
     "output_type": "stream",
     "text": [
      "Part 1: 1816\n",
      "Part 2: 383520\n"
     ]
    }
   ],
   "source": [
    "H, W = len(trees), len(trees[0])\n",
    "maxr, maxc = H-1, W-1\n",
    "perimeter = 2*H + 2*W - 4\n",
    "total_visible = perimeter\n",
    "hi_score = 0\n",
    "# print(f'{H} x {W} = {H*W} trees, Perimeter = {perimeter}')\n",
    "\n",
    "for r, row in enumerate(trees):\n",
    "    if r == 0 or r == maxr: #edges\n",
    "        continue\n",
    "        \n",
    "    for c, tree in enumerate(row):\n",
    "        if c == 0 or c == maxc: #edges\n",
    "            continue\n",
    "        \n",
    "        # --- Part 1 ---\n",
    "        west  = (tree > t for t in row[:c])\n",
    "        east  = (tree > t for t in row[c+1:])\n",
    "        north = (tree > trees[i][c] for i in range(r-1, -1, -1))\n",
    "        south = (tree > trees[i][c] for i in range(r+1, H))\n",
    "        \n",
    "        if all(west) or all(east) or all(north) or all(south):\n",
    "            total_visible += 1\n",
    "            \n",
    "        # --- Part 2 ---\n",
    "        for west in range(c-1, -1, -1):\n",
    "            if row[west] >= tree:\n",
    "                break\n",
    "        \n",
    "        for east in range(c+1, W):\n",
    "            if row[east] >= tree:\n",
    "                break\n",
    "                \n",
    "        for north in range(r-1, -1, -1):\n",
    "            if trees[north][c] >= tree:\n",
    "                break\n",
    "                \n",
    "        for south in range(r+1, H):\n",
    "            if trees[south][c] >= tree:\n",
    "                break\n",
    "                \n",
    "        score = (c-west) * (east-c) * (r-north) * (south-r)\n",
    "        \n",
    "        if score > hi_score:\n",
    "            hi_score = score\n",
    "                        \n",
    "advent.print_answer(1, total_visible)\n",
    "advent.print_answer(2, hi_score)"
   ]
  }
 ],
 "metadata": {
  "kernelspec": {
   "display_name": "Python 3 (ipykernel)",
   "language": "python",
   "name": "python3"
  },
  "language_info": {
   "codemirror_mode": {
    "name": "ipython",
    "version": 3
   },
   "file_extension": ".py",
   "mimetype": "text/x-python",
   "name": "python",
   "nbconvert_exporter": "python",
   "pygments_lexer": "ipython3",
   "version": "3.10.2"
  },
  "widgets": {
   "application/vnd.jupyter.widget-state+json": {
    "state": {},
    "version_major": 2,
    "version_minor": 0
   }
  }
 },
 "nbformat": 4,
 "nbformat_minor": 5
}
