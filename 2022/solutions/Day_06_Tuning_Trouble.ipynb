{
 "cells": [
  {
   "cell_type": "code",
   "execution_count": 1,
   "id": "10ee49c5-4910-4d86-bbe1-70a3c42622eb",
   "metadata": {
    "execution": {
     "iopub.execute_input": "2022-12-06T22:15:47.821925Z",
     "iopub.status.busy": "2022-12-06T22:15:47.820928Z",
     "iopub.status.idle": "2022-12-06T22:15:48.387131Z",
     "shell.execute_reply": "2022-12-06T22:15:48.387131Z",
     "shell.execute_reply.started": "2022-12-06T22:15:47.821925Z"
    }
   },
   "outputs": [
    {
     "name": "stderr",
     "output_type": "stream",
     "text": [
      "[advent] Getting input for year 2022 day 6... done (from disk).\n"
     ]
    }
   ],
   "source": [
    "from aoc_helpers import advent\n",
    "\n",
    "advent.setup(2022, 6)\n",
    "fin = advent.get_input()\n",
    "buffer = fin.readline().strip()"
   ]
  },
  {
   "cell_type": "code",
   "execution_count": 2,
   "id": "73dff551-29e0-488e-891c-4b4e8e5460b1",
   "metadata": {
    "execution": {
     "iopub.execute_input": "2022-12-06T22:15:48.390122Z",
     "iopub.status.busy": "2022-12-06T22:15:48.390122Z",
     "iopub.status.idle": "2022-12-06T22:15:48.403088Z",
     "shell.execute_reply": "2022-12-06T22:15:48.403088Z",
     "shell.execute_reply.started": "2022-12-06T22:15:48.390122Z"
    },
    "tags": []
   },
   "outputs": [
    {
     "name": "stdout",
     "output_type": "stream",
     "text": [
      "Part 1: 1766\n",
      "Part 2: 2383\n"
     ]
    }
   ],
   "source": [
    "def find_marker(m_len):\n",
    "    for i in range(len(buffer) - (m_len - 2)):\n",
    "        if len(set(buffer[i:i+m_len])) == m_len:\n",
    "            return i + m_len        \n",
    "        \n",
    "ans1 = find_marker(4)\n",
    "ans2 = find_marker(14)\n",
    "\n",
    "advent.print_answer(1, ans1)\n",
    "advent.print_answer(2, ans2)"
   ]
  }
 ],
 "metadata": {
  "kernelspec": {
   "display_name": "Python 3 (ipykernel)",
   "language": "python",
   "name": "python3"
  },
  "language_info": {
   "codemirror_mode": {
    "name": "ipython",
    "version": 3
   },
   "file_extension": ".py",
   "mimetype": "text/x-python",
   "name": "python",
   "nbconvert_exporter": "python",
   "pygments_lexer": "ipython3",
   "version": "3.10.2"
  },
  "widgets": {
   "application/vnd.jupyter.widget-state+json": {
    "state": {},
    "version_major": 2,
    "version_minor": 0
   }
  }
 },
 "nbformat": 4,
 "nbformat_minor": 5
}
