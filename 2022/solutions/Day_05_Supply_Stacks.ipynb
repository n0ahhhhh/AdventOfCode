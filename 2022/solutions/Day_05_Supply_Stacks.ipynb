{
 "cells": [
  {
   "cell_type": "code",
   "execution_count": 1,
   "id": "9dcd8423-7497-415e-a8db-20d6e269be04",
   "metadata": {
    "execution": {
     "iopub.execute_input": "2022-12-05T20:08:18.815678Z",
     "iopub.status.busy": "2022-12-05T20:08:18.815678Z",
     "iopub.status.idle": "2022-12-05T20:08:19.337793Z",
     "shell.execute_reply": "2022-12-05T20:08:19.337793Z",
     "shell.execute_reply.started": "2022-12-05T20:08:18.815678Z"
    }
   },
   "outputs": [
    {
     "name": "stderr",
     "output_type": "stream",
     "text": [
      "[advent] Getting input for year 2022 day 5... done (from disk).\n"
     ]
    }
   ],
   "source": [
    "from aoc_helpers import advent\n",
    "\n",
    "advent.setup(2022, 5)\n",
    "fin = advent.get_input()"
   ]
  },
  {
   "cell_type": "code",
   "execution_count": 2,
   "id": "c1c63c51-c6e2-4523-83e4-6e12aa047c73",
   "metadata": {
    "execution": {
     "iopub.execute_input": "2022-12-05T20:08:19.338791Z",
     "iopub.status.busy": "2022-12-05T20:08:19.338791Z",
     "iopub.status.idle": "2022-12-05T20:08:19.353109Z",
     "shell.execute_reply": "2022-12-05T20:08:19.353109Z",
     "shell.execute_reply.started": "2022-12-05T20:08:19.338791Z"
    },
    "tags": []
   },
   "outputs": [
    {
     "data": {
      "text/plain": [
       "['            [M] [S] [S]            \\n',\n",
       " '        [M] [N] [L] [T] [Q]        \\n',\n",
       " '[G]     [P] [C] [F] [G] [T]        \\n',\n",
       " '[B]     [J] [D] [P] [V] [F] [F]    \\n',\n",
       " '[D]     [D] [G] [C] [Z] [H] [B] [G]\\n',\n",
       " '[C] [G] [Q] [L] [N] [D] [M] [D] [Q]\\n',\n",
       " '[P] [V] [S] [S] [B] [B] [Z] [M] [C]\\n',\n",
       " '[R] [H] [N] [P] [J] [Q] [B] [C] [F]\\n',\n",
       " ' 1   2   3   4   5   6   7   8   9 \\n']"
      ]
     },
     "execution_count": 2,
     "metadata": {},
     "output_type": "execute_result"
    }
   ],
   "source": [
    "inp = []\n",
    "\n",
    "for line in fin:\n",
    "    if line == '\\n':\n",
    "        break\n",
    "    inp.append(line)\n",
    "    \n",
    "inp"
   ]
  },
  {
   "cell_type": "code",
   "execution_count": 3,
   "id": "ff37a594-3f4c-44a0-8d58-8570f6df70b3",
   "metadata": {
    "execution": {
     "iopub.execute_input": "2022-12-05T20:08:19.354102Z",
     "iopub.status.busy": "2022-12-05T20:08:19.354102Z",
     "iopub.status.idle": "2022-12-05T20:08:19.369062Z",
     "shell.execute_reply": "2022-12-05T20:08:19.369062Z",
     "shell.execute_reply.started": "2022-12-05T20:08:19.354102Z"
    },
    "tags": []
   },
   "outputs": [
    {
     "name": "stdout",
     "output_type": "stream",
     "text": [
      "Part 1: TLNGFGMFN\n",
      "Part 2: FGLQJCMBD\n"
     ]
    }
   ],
   "source": [
    "stacks = [None]\n",
    "moves = []\n",
    "\n",
    "cols = list(zip(*inp)) #transposes each column\n",
    "\n",
    "for i, col in enumerate(cols):\n",
    "    if i % 4 == 1:\n",
    "        stacks.append(''.join(col[:-1]).lstrip())\n",
    "        \n",
    "original = stacks[:] #create copy for part 2\n",
    "\n",
    "#continues from where we left off\n",
    "for line in fin:\n",
    "    line = line.split()\n",
    "    moves.append((int(line[1]), int(line[3]), int(line[5])))\n",
    "\n",
    "def move_crates(stacks, moves, rev=True):\n",
    "    for n, i, j in moves:\n",
    "        if rev: chunk = stacks[i][:n][::-1]\n",
    "        else: chunk = stacks[i][:n]\n",
    "        stacks[i] = stacks[i][n:] #updates source stack after removing top crate\n",
    "        stacks[j] = chunk + stacks[j] #updates destination stack after adding crate\n",
    "    \n",
    "    return ''.join(s[0] for s in stacks[1:])\n",
    "\n",
    "ans1 = move_crates(stacks, moves)\n",
    "\n",
    "stacks = original #restores from copy we made earlier\n",
    "ans2 = move_crates(stacks, moves, False)\n",
    "\n",
    "advent.print_answer(1, ans1)\n",
    "advent.print_answer(2, ans2)"
   ]
  }
 ],
 "metadata": {
  "kernelspec": {
   "display_name": "Python 3 (ipykernel)",
   "language": "python",
   "name": "python3"
  },
  "language_info": {
   "codemirror_mode": {
    "name": "ipython",
    "version": 3
   },
   "file_extension": ".py",
   "mimetype": "text/x-python",
   "name": "python",
   "nbconvert_exporter": "python",
   "pygments_lexer": "ipython3",
   "version": "3.10.2"
  },
  "widgets": {
   "application/vnd.jupyter.widget-state+json": {
    "state": {},
    "version_major": 2,
    "version_minor": 0
   }
  }
 },
 "nbformat": 4,
 "nbformat_minor": 5
}
