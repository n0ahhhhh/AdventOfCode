{
 "cells": [
  {
   "cell_type": "code",
   "execution_count": 1,
   "id": "89c1ddb8-c31a-4e23-9571-0f6010af8574",
   "metadata": {
    "execution": {
     "iopub.execute_input": "2022-12-04T15:52:12.090263Z",
     "iopub.status.busy": "2022-12-04T15:52:12.090263Z",
     "iopub.status.idle": "2022-12-04T15:52:12.561524Z",
     "shell.execute_reply": "2022-12-04T15:52:12.561524Z",
     "shell.execute_reply.started": "2022-12-04T15:52:12.090263Z"
    },
    "tags": []
   },
   "outputs": [
    {
     "name": "stderr",
     "output_type": "stream",
     "text": [
      "[advent] Getting input for year 2022 day 4... done (from disk).\n"
     ]
    }
   ],
   "source": [
    "from aoc_helpers import advent\n",
    "\n",
    "advent.setup(2022, 4)\n",
    "fin = advent.get_input()"
   ]
  },
  {
   "cell_type": "code",
   "execution_count": 2,
   "id": "cbc28279-5345-4ce4-a224-03840ae5d217",
   "metadata": {
    "execution": {
     "iopub.execute_input": "2022-12-04T15:52:12.562500Z",
     "iopub.status.busy": "2022-12-04T15:52:12.562500Z",
     "iopub.status.idle": "2022-12-04T15:52:12.568360Z",
     "shell.execute_reply": "2022-12-04T15:52:12.568360Z",
     "shell.execute_reply.started": "2022-12-04T15:52:12.562500Z"
    },
    "tags": []
   },
   "outputs": [
    {
     "name": "stdout",
     "output_type": "stream",
     "text": [
      "Part 1: 530\n",
      "Part 2: 903\n"
     ]
    }
   ],
   "source": [
    "overlap = full_overlap = 0\n",
    "for line in fin:\n",
    "    a, b   = line.strip().split(',')\n",
    "    a1, a2 = map(int, a.split('-'))\n",
    "    b1, b2 = map(int, b.split('-'))\n",
    "    \n",
    "    o1 = max(a1, b1)\n",
    "    o2 = min(a2, b2)\n",
    "    \n",
    "    if o2 >= o1:\n",
    "        overlap +=1\n",
    "        if o1 == a1 and o2 == a2 or o1 == b1 and o2 == b2:\n",
    "            full_overlap += 1\n",
    "        \n",
    "advent.print_answer(1, full_overlap)\n",
    "advent.print_answer(2, overlap)"
   ]
  }
 ],
 "metadata": {
  "kernelspec": {
   "display_name": "Python 3 (ipykernel)",
   "language": "python",
   "name": "python3"
  },
  "language_info": {
   "codemirror_mode": {
    "name": "ipython",
    "version": 3
   },
   "file_extension": ".py",
   "mimetype": "text/x-python",
   "name": "python",
   "nbconvert_exporter": "python",
   "pygments_lexer": "ipython3",
   "version": "3.10.2"
  },
  "widgets": {
   "application/vnd.jupyter.widget-state+json": {
    "state": {},
    "version_major": 2,
    "version_minor": 0
   }
  }
 },
 "nbformat": 4,
 "nbformat_minor": 5
}
