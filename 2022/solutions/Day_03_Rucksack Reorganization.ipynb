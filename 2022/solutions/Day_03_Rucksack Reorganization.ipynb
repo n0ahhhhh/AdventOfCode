{
 "cells": [
  {
   "cell_type": "code",
   "execution_count": 1,
   "id": "3ee24ff1-d3ee-404d-97ab-01c83f9446cb",
   "metadata": {
    "execution": {
     "iopub.execute_input": "2022-12-03T07:01:04.561757Z",
     "iopub.status.busy": "2022-12-03T07:01:04.560781Z",
     "iopub.status.idle": "2022-12-03T07:01:05.043369Z",
     "shell.execute_reply": "2022-12-03T07:01:05.043369Z",
     "shell.execute_reply.started": "2022-12-03T07:01:04.561757Z"
    }
   },
   "outputs": [
    {
     "name": "stderr",
     "output_type": "stream",
     "text": [
      "[advent] Getting input for year 2022 day 3... done (from disk).\n"
     ]
    }
   ],
   "source": [
    "from aoc_helpers import advent\n",
    "import string\n",
    "\n",
    "advent.setup(2022, 3)\n",
    "fin = advent.get_input()\n",
    "\n",
    "LETTERS = string.ascii_letters #concatenation of lowercase and uppercase ascii letters\n",
    "rucksacks = list(map(str.strip, fin))"
   ]
  },
  {
   "cell_type": "code",
   "execution_count": 2,
   "id": "c86507c8-2272-46fc-9a62-72edc0572584",
   "metadata": {
    "execution": {
     "iopub.execute_input": "2022-12-03T07:01:05.044344Z",
     "iopub.status.busy": "2022-12-03T07:01:05.044344Z",
     "iopub.status.idle": "2022-12-03T07:01:05.049226Z",
     "shell.execute_reply": "2022-12-03T07:01:05.049226Z",
     "shell.execute_reply.started": "2022-12-03T07:01:05.044344Z"
    },
    "tags": []
   },
   "outputs": [
    {
     "name": "stdout",
     "output_type": "stream",
     "text": [
      "Part 1: 7701\n"
     ]
    }
   ],
   "source": [
    "ans1 = ans2 = 0\n",
    "for line in rucksacks:\n",
    "    comp1 = line[:len(line)//2] #first half\n",
    "    comp2 = line[len(line)//2:] #second half\n",
    "    \n",
    "    set1 = set(comp1)\n",
    "    set2 = set(comp2)    \n",
    "    misplaced = set1 & set2 #finds common element\n",
    "    \n",
    "    idx = LETTERS.index(list(misplaced)[0])\n",
    "    ans1 += idx + 1\n",
    "    \n",
    "advent.print_answer(1, ans1)"
   ]
  },
  {
   "cell_type": "code",
   "execution_count": 3,
   "id": "1fe48719-8226-47c5-a497-d23467a7bb2d",
   "metadata": {
    "execution": {
     "iopub.execute_input": "2022-12-03T07:01:05.050202Z",
     "iopub.status.busy": "2022-12-03T07:01:05.050202Z",
     "iopub.status.idle": "2022-12-03T07:01:05.055081Z",
     "shell.execute_reply": "2022-12-03T07:01:05.055081Z",
     "shell.execute_reply.started": "2022-12-03T07:01:05.050202Z"
    },
    "tags": []
   },
   "outputs": [
    {
     "name": "stdout",
     "output_type": "stream",
     "text": [
      "Part 2: 2644\n"
     ]
    }
   ],
   "source": [
    "idx = 0\n",
    "while (idx + 2) < len(rucksacks):\n",
    "    group = rucksacks[idx:idx+3]\n",
    "    elves = [set(elf) for elf in group]\n",
    "    misplaced = elves[0] & elves[1] & elves[2]\n",
    "    p = LETTERS.index(list(misplaced)[0])\n",
    "    ans2 += p + 1\n",
    "    idx += 3\n",
    "    \n",
    "advent.print_answer(2, ans2)"
   ]
  }
 ],
 "metadata": {
  "kernelspec": {
   "display_name": "Python 3 (ipykernel)",
   "language": "python",
   "name": "python3"
  },
  "language_info": {
   "codemirror_mode": {
    "name": "ipython",
    "version": 3
   },
   "file_extension": ".py",
   "mimetype": "text/x-python",
   "name": "python",
   "nbconvert_exporter": "python",
   "pygments_lexer": "ipython3",
   "version": "3.10.2"
  },
  "widgets": {
   "application/vnd.jupyter.widget-state+json": {
    "state": {},
    "version_major": 2,
    "version_minor": 0
   }
  }
 },
 "nbformat": 4,
 "nbformat_minor": 5
}
