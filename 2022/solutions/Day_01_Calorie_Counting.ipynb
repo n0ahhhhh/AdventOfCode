{
 "cells": [
  {
   "cell_type": "code",
   "execution_count": 1,
   "id": "4c9aea0d-2af9-40ce-8b45-10624f63baf5",
   "metadata": {
    "execution": {
     "iopub.execute_input": "2022-12-01T18:27:57.415420Z",
     "iopub.status.busy": "2022-12-01T18:27:57.414422Z",
     "iopub.status.idle": "2022-12-01T18:27:57.924111Z",
     "shell.execute_reply": "2022-12-01T18:27:57.924111Z",
     "shell.execute_reply.started": "2022-12-01T18:27:57.415420Z"
    }
   },
   "outputs": [
    {
     "name": "stderr",
     "output_type": "stream",
     "text": [
      "[advent] Getting input for year 2022 day 1... done (from disk).\n"
     ]
    }
   ],
   "source": [
    "from aoc_helpers import advent\n",
    "\n",
    "advent.setup(2022, 1)\n",
    "fin = advent.get_input()\n",
    "\n",
    "chunks = fin.read().split('\\n\\n')\n",
    "chunks = [tuple(map(int, chunk.split())) for chunk in chunks]"
   ]
  },
  {
   "cell_type": "code",
   "execution_count": 2,
   "id": "7e6563d2-172b-4dd2-a555-a56fc0e4543b",
   "metadata": {
    "execution": {
     "iopub.execute_input": "2022-12-01T18:27:57.925104Z",
     "iopub.status.busy": "2022-12-01T18:27:57.925104Z",
     "iopub.status.idle": "2022-12-01T18:27:57.940068Z",
     "shell.execute_reply": "2022-12-01T18:27:57.940068Z",
     "shell.execute_reply.started": "2022-12-01T18:27:57.925104Z"
    }
   },
   "outputs": [
    {
     "name": "stdout",
     "output_type": "stream",
     "text": [
      "Part 1: 66306\n"
     ]
    }
   ],
   "source": [
    "most = max(map(sum, chunks))\n",
    "advent.print_answer(1, most)"
   ]
  },
  {
   "cell_type": "code",
   "execution_count": 3,
   "id": "8f7824ca-7dbe-4f5e-8fac-4486e9bef058",
   "metadata": {
    "execution": {
     "iopub.execute_input": "2022-12-01T18:27:57.941062Z",
     "iopub.status.busy": "2022-12-01T18:27:57.941062Z",
     "iopub.status.idle": "2022-12-01T18:27:57.956026Z",
     "shell.execute_reply": "2022-12-01T18:27:57.956026Z",
     "shell.execute_reply.started": "2022-12-01T18:27:57.941062Z"
    },
    "tags": []
   },
   "outputs": [
    {
     "name": "stdout",
     "output_type": "stream",
     "text": [
      "Part 2: 195292\n"
     ]
    }
   ],
   "source": [
    "chunks.sort(key=sum, reverse=True)\n",
    "top3 = sum(map(sum, chunks[:3]))\n",
    "advent.print_answer(2,top3)"
   ]
  }
 ],
 "metadata": {
  "kernelspec": {
   "display_name": "Python 3 (ipykernel)",
   "language": "python",
   "name": "python3"
  },
  "language_info": {
   "codemirror_mode": {
    "name": "ipython",
    "version": 3
   },
   "file_extension": ".py",
   "mimetype": "text/x-python",
   "name": "python",
   "nbconvert_exporter": "python",
   "pygments_lexer": "ipython3",
   "version": "3.10.2"
  },
  "widgets": {
   "application/vnd.jupyter.widget-state+json": {
    "state": {},
    "version_major": 2,
    "version_minor": 0
   }
  }
 },
 "nbformat": 4,
 "nbformat_minor": 5
}
