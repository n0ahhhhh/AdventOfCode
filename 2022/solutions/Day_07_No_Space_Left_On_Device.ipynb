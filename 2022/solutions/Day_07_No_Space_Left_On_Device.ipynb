{
 "cells": [
  {
   "cell_type": "code",
   "execution_count": 1,
   "id": "f8940161-53e0-467a-acd1-3f875cf2fb09",
   "metadata": {
    "execution": {
     "iopub.execute_input": "2022-12-07T18:47:37.547053Z",
     "iopub.status.busy": "2022-12-07T18:47:37.547053Z",
     "iopub.status.idle": "2022-12-07T18:47:38.045702Z",
     "shell.execute_reply": "2022-12-07T18:47:38.045702Z",
     "shell.execute_reply.started": "2022-12-07T18:47:37.547053Z"
    }
   },
   "outputs": [
    {
     "name": "stderr",
     "output_type": "stream",
     "text": [
      "[advent] Getting input for year 2022 day 7... done (from disk).\n"
     ]
    }
   ],
   "source": [
    "from collections import deque, defaultdict\n",
    "from functools import lru_cache\n",
    "from aoc_helpers import advent\n",
    "\n",
    "advent.setup(2022, 7)\n",
    "fin = advent.get_input()"
   ]
  },
  {
   "cell_type": "code",
   "execution_count": 2,
   "id": "04fabf39-c0b3-4344-9593-897ba50ec15e",
   "metadata": {
    "execution": {
     "iopub.execute_input": "2022-12-07T18:47:38.046659Z",
     "iopub.status.busy": "2022-12-07T18:47:38.046659Z",
     "iopub.status.idle": "2022-12-07T18:47:38.061648Z",
     "shell.execute_reply": "2022-12-07T18:47:38.061648Z",
     "shell.execute_reply.started": "2022-12-07T18:47:38.046659Z"
    },
    "tags": []
   },
   "outputs": [],
   "source": [
    "def parse_filesystem(fin):\n",
    "    lines = deque(fin)\n",
    "    fs    = defaultdict(list)\n",
    "    path  = ()\n",
    "    \n",
    "    while lines:\n",
    "        line = lines.popleft().split() #['$', 'cd', 'foo']\n",
    "        command = line[1] #'cd' or 'ls'\n",
    "        args    = line[2:] #dir name, file, or nothing\n",
    "        \n",
    "        if command == 'ls':\n",
    "            while lines and not lines[0].startswith('$'):\n",
    "                size = lines.popleft().split()[0]\n",
    "                if size == 'dir': #ignore if it's a directory\n",
    "                    continue\n",
    "                fs[path].append(int(size)) #adds file size to contents of path\n",
    "        else: #cd into different dir\n",
    "            if args[0] == '..':\n",
    "                path = path[:-1]\n",
    "            else:\n",
    "                new_path = path + (args[0],)\n",
    "                fs[path].append(new_path)\n",
    "                path = new_path\n",
    "    return fs\n",
    "\n",
    "\n",
    "@lru_cache(maxsize=None)\n",
    "def directory_size(path):\n",
    "    size = 0\n",
    "\n",
    "    for subdir_or_size in fs[path]:\n",
    "        if isinstance(subdir_or_size, int):\n",
    "            size += subdir_or_size\n",
    "        else:\n",
    "            size += directory_size(subdir_or_size) #recursively calculates size\n",
    "\n",
    "    return size\n",
    "        \n",
    "fs = parse_filesystem(fin)"
   ]
  },
  {
   "cell_type": "code",
   "execution_count": 3,
   "id": "df4be761-0587-46e6-9b85-4e26503c36a1",
   "metadata": {
    "execution": {
     "iopub.execute_input": "2022-12-07T18:47:38.062643Z",
     "iopub.status.busy": "2022-12-07T18:47:38.062643Z",
     "iopub.status.idle": "2022-12-07T18:47:38.077612Z",
     "shell.execute_reply": "2022-12-07T18:47:38.077612Z",
     "shell.execute_reply.started": "2022-12-07T18:47:38.062643Z"
    },
    "tags": []
   },
   "outputs": [
    {
     "name": "stdout",
     "output_type": "stream",
     "text": [
      "Part 1: 1428881\n",
      "Part 2: 10475598\n"
     ]
    }
   ],
   "source": [
    "dir_size = 0\n",
    "used = directory_size(('/',))\n",
    "free = 70000000 - used\n",
    "need = 30000000 - free\n",
    "min_size_to_free = used\n",
    "\n",
    "for path in fs:\n",
    "    size = directory_size(path)\n",
    "    if size <= 100000:\n",
    "        dir_size += size\n",
    "    if size >= need and size < min_size_to_free:\n",
    "        min_size_to_free = size\n",
    "        \n",
    "advent.print_answer(1, dir_size)\n",
    "advent.print_answer(2, min_size_to_free)"
   ]
  }
 ],
 "metadata": {
  "kernelspec": {
   "display_name": "Python 3 (ipykernel)",
   "language": "python",
   "name": "python3"
  },
  "language_info": {
   "codemirror_mode": {
    "name": "ipython",
    "version": 3
   },
   "file_extension": ".py",
   "mimetype": "text/x-python",
   "name": "python",
   "nbconvert_exporter": "python",
   "pygments_lexer": "ipython3",
   "version": "3.10.2"
  },
  "widgets": {
   "application/vnd.jupyter.widget-state+json": {
    "state": {},
    "version_major": 2,
    "version_minor": 0
   }
  }
 },
 "nbformat": 4,
 "nbformat_minor": 5
}
