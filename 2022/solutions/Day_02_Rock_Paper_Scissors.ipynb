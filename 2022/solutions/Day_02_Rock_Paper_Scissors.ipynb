{
 "cells": [
  {
   "cell_type": "code",
   "execution_count": 1,
   "id": "6cf131b9-d863-4f86-a5d7-16d45be2ff30",
   "metadata": {
    "execution": {
     "iopub.execute_input": "2022-12-02T18:14:46.105337Z",
     "iopub.status.busy": "2022-12-02T18:14:46.105337Z",
     "iopub.status.idle": "2022-12-02T18:14:46.582594Z",
     "shell.execute_reply": "2022-12-02T18:14:46.582594Z",
     "shell.execute_reply.started": "2022-12-02T18:14:46.105337Z"
    },
    "tags": []
   },
   "outputs": [
    {
     "name": "stderr",
     "output_type": "stream",
     "text": [
      "[advent] Getting input for year 2022 day 2... done (from disk).\n"
     ]
    }
   ],
   "source": [
    "from aoc_helpers import advent\n",
    "\n",
    "advent.setup(2022, 2)\n",
    "fin = advent.get_input()"
   ]
  },
  {
   "cell_type": "code",
   "execution_count": 2,
   "id": "ca2b79a9-98b8-451c-8a69-fac673181704",
   "metadata": {
    "execution": {
     "iopub.execute_input": "2022-12-02T18:14:46.583592Z",
     "iopub.status.busy": "2022-12-02T18:14:46.583592Z",
     "iopub.status.idle": "2022-12-02T18:14:46.598550Z",
     "shell.execute_reply": "2022-12-02T18:14:46.598550Z",
     "shell.execute_reply.started": "2022-12-02T18:14:46.583592Z"
    },
    "tags": []
   },
   "outputs": [],
   "source": [
    "#scores based on assumption that XYZ is what to play in order to win\n",
    "scores1 = {\n",
    "    'AX': 4, #1 + 3  A (rock)     vs X (rock)     -> draw\n",
    "    'AY': 8, #2 + 6  A (rock)     vs Y (paper)    -> win\n",
    "    'AZ': 3, #3 + 0  A (rock)     vs Z (scissors) -> loss\n",
    "    'BX': 1, #1 + 0  B (paper)    vs X (rock)     -> loss\n",
    "    'BY': 5, #2 + 3  B (paper)    vs Y (paper)    -> draw\n",
    "    'BZ': 9, #3 + 6  B (paper)    vs Z (scissors) -> win\n",
    "    'CX': 7, #1 + 6  C (scissors) vs X (rock)     -> win\n",
    "    'CY': 2, #2 + 0  C (scissors) vs Y (paper)    -> loss\n",
    "    'CZ': 6  #3 + 3  C (scissors) vs Z (scissors) -> draw\n",
    "}\n",
    "\n",
    "#scores based on X = need to lose, Y = need to draw, and Z = need to win\n",
    "scores2 = {\n",
    "    'AX': 3, #3 + 0  A (rock)     vs X (scissors) -> loss\n",
    "    'AY': 4, #1 + 3  A (rock)     vs Y (rock)     -> draw\n",
    "    'AZ': 8, #2 + 6  A (rock)     vs Z (paper)    -> win\n",
    "    'BX': 1, #1 + 0  B (paper)    vs X (rock)     -> loss\n",
    "    'BY': 5, #2 + 3  B (paper)    vs Y (paper)    -> draw\n",
    "    'BZ': 9, #3 + 6  B (paper)    vs Z (scissors) -> win\n",
    "    'CX': 2, #2 + 0  C (scissors) vs X (paper)    -> loss\n",
    "    'CY': 6, #3 + 3  C (scissors) vs X (scissors) -> draw\n",
    "    'CZ': 7  #1 + 6  C (scissors) vs X (rock)     -> win\n",
    "}"
   ]
  },
  {
   "cell_type": "code",
   "execution_count": 3,
   "id": "8eaa5ed1-9585-4457-92b3-a3c050a95717",
   "metadata": {
    "execution": {
     "iopub.execute_input": "2022-12-02T18:14:46.599549Z",
     "iopub.status.busy": "2022-12-02T18:14:46.599549Z",
     "iopub.status.idle": "2022-12-02T18:14:46.613511Z",
     "shell.execute_reply": "2022-12-02T18:14:46.613511Z",
     "shell.execute_reply.started": "2022-12-02T18:14:46.599549Z"
    },
    "tags": []
   },
   "outputs": [
    {
     "name": "stdout",
     "output_type": "stream",
     "text": [
      "Part 1: 8890\n",
      "Part 2: 10238\n"
     ]
    }
   ],
   "source": [
    "lines = list(map(str.strip, fin))\n",
    "ans1 = 0\n",
    "ans2 = 0\n",
    "\n",
    "for line in lines:\n",
    "    a, b = line.strip().split()\n",
    "    ans1 += scores1[a+b]\n",
    "    ans2 += scores2[a+b]\n",
    "    \n",
    "advent.print_answer(1, ans1)\n",
    "advent.print_answer(2, ans2)"
   ]
  }
 ],
 "metadata": {
  "kernelspec": {
   "display_name": "Python 3 (ipykernel)",
   "language": "python",
   "name": "python3"
  },
  "language_info": {
   "codemirror_mode": {
    "name": "ipython",
    "version": 3
   },
   "file_extension": ".py",
   "mimetype": "text/x-python",
   "name": "python",
   "nbconvert_exporter": "python",
   "pygments_lexer": "ipython3",
   "version": "3.10.2"
  },
  "widgets": {
   "application/vnd.jupyter.widget-state+json": {
    "state": {},
    "version_major": 2,
    "version_minor": 0
   }
  }
 },
 "nbformat": 4,
 "nbformat_minor": 5
}
