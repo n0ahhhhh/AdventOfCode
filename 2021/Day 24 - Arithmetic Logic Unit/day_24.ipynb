{
 "cells": [
  {
   "cell_type": "code",
   "execution_count": 1,
   "id": "cfe138bc",
   "metadata": {
    "ExecuteTime": {
     "end_time": "2021-12-24T15:39:20.625400Z",
     "start_time": "2021-12-24T15:39:20.159848Z"
    }
   },
   "outputs": [
    {
     "name": "stderr",
     "output_type": "stream",
     "text": [
      "[advent] Getting input for year 2021 day 24... done (from disk).\n"
     ]
    }
   ],
   "source": [
    "from aoc_helpers import advent\n",
    "\n",
    "advent.setup(2021, 24)\n",
    "fin = advent.get_input()"
   ]
  },
  {
   "cell_type": "code",
   "execution_count": 2,
   "id": "b5a84a05",
   "metadata": {
    "ExecuteTime": {
     "end_time": "2021-12-24T15:39:20.629304Z",
     "start_time": "2021-12-24T15:39:20.626375Z"
    }
   },
   "outputs": [],
   "source": [
    "# instr = fin.read().strip().split('\\n')\n",
    "# instr = [x.split(' ') for x in instr]"
   ]
  },
  {
   "cell_type": "code",
   "execution_count": 6,
   "id": "9b1a3757",
   "metadata": {
    "ExecuteTime": {
     "end_time": "2021-12-24T15:40:22.639937Z",
     "start_time": "2021-12-24T15:40:22.634079Z"
    }
   },
   "outputs": [
    {
     "name": "stdout",
     "output_type": "stream",
     "text": [
      "34198111816311\n"
     ]
    }
   ],
   "source": [
    "lines = open(\"day_24.txt\").read().split(\"\\n\")\n",
    "pairs = [(int(lines[i * 18 + 5][6:]), int(lines[i * 18 + 15][6:])) for i in range(14)]\n",
    "stack = []\n",
    "links = {}\n",
    "for i, (a, b) in enumerate(pairs):\n",
    "    if a > 0:\n",
    "        stack.append((i, b))\n",
    "    else:\n",
    "        j, bj = stack.pop()\n",
    "        links[i] = (j, bj + a)\n",
    "\n",
    "minimize = True\n",
    "assignments = {}\n",
    "for i, (j, delta) in links.items():\n",
    "    assignments[i] = max(1, 1 + delta) if minimize else min(9, 9 + delta)\n",
    "    assignments[j] = max(1, 1 - delta) if minimize else min(9, 9 - delta)\n",
    "print(\"\".join(str(assignments[x]) for x in range(14)))"
   ]
  },
  {
   "cell_type": "code",
   "execution_count": null,
   "id": "5984de16",
   "metadata": {},
   "outputs": [],
   "source": []
  }
 ],
 "metadata": {
  "kernelspec": {
   "display_name": "py9",
   "language": "python",
   "name": "py9"
  },
  "language_info": {
   "codemirror_mode": {
    "name": "ipython",
    "version": 3
   },
   "file_extension": ".py",
   "mimetype": "text/x-python",
   "name": "python",
   "nbconvert_exporter": "python",
   "pygments_lexer": "ipython3",
   "version": "3.9.7"
  }
 },
 "nbformat": 4,
 "nbformat_minor": 5
}
