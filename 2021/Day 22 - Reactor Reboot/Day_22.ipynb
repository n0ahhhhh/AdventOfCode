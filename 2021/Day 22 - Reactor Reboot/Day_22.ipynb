{
 "cells": [
  {
   "cell_type": "code",
   "execution_count": 1,
   "id": "1bf12f56",
   "metadata": {
    "ExecuteTime": {
     "end_time": "2021-12-22T06:56:26.770649Z",
     "start_time": "2021-12-22T06:56:26.315006Z"
    }
   },
   "outputs": [
    {
     "name": "stderr",
     "output_type": "stream",
     "text": [
      "[advent] Getting input for year 2021 day 22... done (from disk).\n"
     ]
    }
   ],
   "source": [
    "from aoc_helpers import advent\n",
    "\n",
    "advent.setup(2021, 22)\n",
    "fin = advent.get_input()"
   ]
  },
  {
   "cell_type": "code",
   "execution_count": 2,
   "id": "ff745e98",
   "metadata": {
    "ExecuteTime": {
     "end_time": "2021-12-22T06:56:26.774139Z",
     "start_time": "2021-12-22T06:56:26.771603Z"
    }
   },
   "outputs": [],
   "source": [
    "data = fin.read().strip()"
   ]
  },
  {
   "cell_type": "code",
   "execution_count": 3,
   "id": "22d92cf2",
   "metadata": {
    "ExecuteTime": {
     "end_time": "2021-12-22T06:56:26.780500Z",
     "start_time": "2021-12-22T06:56:26.774647Z"
    },
    "scrolled": true
   },
   "outputs": [],
   "source": [
    "# data = [x.split() for x in data if len(x) <= 35]"
   ]
  },
  {
   "cell_type": "code",
   "execution_count": 12,
   "id": "4a77ed94",
   "metadata": {
    "ExecuteTime": {
     "end_time": "2021-12-22T07:02:57.601518Z",
     "start_time": "2021-12-22T07:02:57.591759Z"
    }
   },
   "outputs": [],
   "source": [
    "def get_instr(data):\n",
    "    for line in data.splitlines():\n",
    "        state, ranges = line.split()\n",
    "        xr, yr, zr = ranges.split(',')\n",
    "\n",
    "        xmin, xmax = xr[2:].split('..')\n",
    "        ymin, ymax = yr[2:].split('..')\n",
    "        zmin, zmax = zr[2:].split('..')\n",
    "\n",
    "        xrange = range(int(xmin), int(xmax)+1)\n",
    "        yrange = range(int(ymin), int(ymax)+1)\n",
    "        zrange = range(int(zmin), int(zmax)+1)\n",
    "\n",
    "        yield state, xrange, yrange, zrange\n",
    "    \n",
    "def get_sub(crange, low, high):\n",
    "    c0 = crange[0]\n",
    "    c1 = crange[-1]\n",
    "    if c1 < low:\n",
    "        return []\n",
    "    elif c0 > high:\n",
    "        return []\n",
    "    c0 = max(c0, low)\n",
    "    c1 = max(c1, low)\n",
    "    c0 = min(c0, high)\n",
    "    c1 = min(c1, high)\n",
    "    return range(c0, c1+1)\n",
    "\n",
    "def part_1(data):\n",
    "    instr = list(get_instr(data))\n",
    "    cubes = {}\n",
    "    for idx, item in enumerate(instr):\n",
    "        state, xr, yr, zr = item\n",
    "#         print('state: {}, xr: {}, yr: {}, zr: {}'.format(state, xr, yr, zr))\n",
    "        for x in get_sub(xr, -50, 50):\n",
    "            for y in get_sub(yr, -50, 50):\n",
    "                for z in get_sub(zr, -50, 50):\n",
    "                    cubes[x,y,z] = state\n",
    "                    \n",
    "    answer = sum(1 for s in cubes.values() if s == 'on')\n",
    "    print(answer)\n",
    "    \n",
    "def count_uninterrupted(item, rest):\n",
    "    _, xr, yr, zr = item\n",
    "    total = len(xr) * len(yr) * len(zr)\n",
    "\n",
    "    conflicts = []\n",
    "    ref_val = 0\n",
    "\n",
    "    for item in rest:\n",
    "        state, xr2, yr2, zr2 = item\n",
    "\n",
    "        cxr = get_sub(xr2, xr[0], xr[-1])\n",
    "        cyr = get_sub(yr2, yr[0], yr[-1])\n",
    "        czr = get_sub(zr2, zr[0], zr[-1])\n",
    "\n",
    "        if len(cxr) == 0 or len(cyr) == 0 or len(czr) == 0:\n",
    "            continue\n",
    "\n",
    "        conflicts.append((state, cxr, cyr, czr))\n",
    "        ref_val += len(cxr) * len(cyr) * len(czr)\n",
    "\n",
    "    for idx, item in enumerate(conflicts):\n",
    "        total -= count_uninterrupted(item, conflicts[idx+1:])\n",
    "\n",
    "    return total\n",
    "\n",
    "def part_2(s):\n",
    "    data = list(get_instr(s))\n",
    "\n",
    "    answer = 0\n",
    "\n",
    "    for idx, item in enumerate(data):\n",
    "        state, xr, yr, zr = item\n",
    "        if state == 'off':\n",
    "            continue\n",
    "        answer += count_uninterrupted(item, data[idx+1:])\n",
    "\n",
    "    print(answer)"
   ]
  },
  {
   "cell_type": "code",
   "execution_count": 13,
   "id": "b83c2b77",
   "metadata": {
    "ExecuteTime": {
     "end_time": "2021-12-22T07:02:58.945707Z",
     "start_time": "2021-12-22T07:02:58.267833Z"
    }
   },
   "outputs": [
    {
     "name": "stdout",
     "output_type": "stream",
     "text": [
      "587097\n",
      "1359673068597669\n"
     ]
    }
   ],
   "source": [
    "part_1(data)\n",
    "part_2(data)"
   ]
  },
  {
   "cell_type": "code",
   "execution_count": null,
   "id": "ea56bb7f",
   "metadata": {},
   "outputs": [],
   "source": []
  }
 ],
 "metadata": {
  "kernelspec": {
   "display_name": "py9",
   "language": "python",
   "name": "py9"
  },
  "language_info": {
   "codemirror_mode": {
    "name": "ipython",
    "version": 3
   },
   "file_extension": ".py",
   "mimetype": "text/x-python",
   "name": "python",
   "nbconvert_exporter": "python",
   "pygments_lexer": "ipython3",
   "version": "3.9.7"
  }
 },
 "nbformat": 4,
 "nbformat_minor": 5
}
