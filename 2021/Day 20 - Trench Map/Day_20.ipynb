{
 "cells": [
  {
   "cell_type": "code",
   "execution_count": 1,
   "id": "99ced102",
   "metadata": {
    "ExecuteTime": {
     "end_time": "2021-12-20T16:41:24.569115Z",
     "start_time": "2021-12-20T16:41:24.038262Z"
    }
   },
   "outputs": [
    {
     "name": "stderr",
     "output_type": "stream",
     "text": [
      "[advent] Getting input for year 2021 day 20... done (from disk).\n"
     ]
    }
   ],
   "source": [
    "from collections import defaultdict\n",
    "from aoc_helpers import advent\n",
    "advent.setup(2021,20)\n",
    "fin = advent.get_input()\n",
    "\n",
    "algo, input_image = fin.read().strip().split('\\n\\n')\n",
    "input_image = [x for x in input_image.split('\\n')]"
   ]
  },
  {
   "cell_type": "code",
   "execution_count": 2,
   "id": "82ff83a1",
   "metadata": {
    "ExecuteTime": {
     "end_time": "2021-12-20T16:41:24.577429Z",
     "start_time": "2021-12-20T16:41:24.570091Z"
    }
   },
   "outputs": [],
   "source": [
    "#set of all inital lit pixels\n",
    "def get_pixels(image):\n",
    "    lit_pixels = set()\n",
    "    for x, row in enumerate(image):\n",
    "        for y, col in enumerate(row):\n",
    "            if col == '#':\n",
    "                lit_pixels.add((x, y))\n",
    "    return lit_pixels\n",
    "\n",
    "#gets surrounding pixels for any given pixel\n",
    "def get_neighbors(x, y):\n",
    "    return [\n",
    "        (x - 1, y - 1), (x - 1, y    ), (x - 1, y + 1),\n",
    "        (x    , y - 1), (x    , y    ), (x    , y + 1),\n",
    "        (x + 1, y - 1), (x + 1, y    ), (x + 1, y + 1)\n",
    "    ]\n",
    "\n",
    "#essentially creates a square boundary around all the \"lit\" pixels\n",
    "#this is to distinguish between our pixels and the inifinity around them\n",
    "def get_boundary(pixels):\n",
    "    minx = min(p[0] for p in pixels)\n",
    "    miny = min(p[1] for p in pixels)\n",
    "    maxx = max(p[0] for p in pixels)\n",
    "    maxy = max(p[1] for p in pixels)\n",
    "    \n",
    "    boundary = {(x,y) for x in range(minx, maxx+1) for y in range(miny,maxy+1)}\n",
    "    return boundary, minx, miny, maxx, maxy\n",
    "\n",
    "#figures out if the given pixel is inside the boundary or not\n",
    "def get_placement(x,y,pixels,boundary,outside):\n",
    "    if outside:\n",
    "        return '1' if (x,y) in pixels or (x,y) not in boundary else '0'\n",
    "    else:\n",
    "        return '1' if (x,y) in pixels else '0'\n",
    "\n",
    "#main function that returns our enchanced image\n",
    "def enhance(pixels, outside):\n",
    "    new_pixels = set()\n",
    "    boundary, minx, miny, maxx, maxy = get_boundary(pixels) #min = 0, max = 99\n",
    "    for x in range(minx-1, maxx+2):\n",
    "        for y in range(miny-1,maxy+2):\n",
    "            #gets corresponding binary number for each pixel\n",
    "            pstr = ''.join([\n",
    "                get_placement(a,b,pixels,boundary,outside)\n",
    "                for a,b in get_neighbors(x,y)])\n",
    "            bstr = int(pstr,2)\n",
    "            if algo[bstr] == '#':\n",
    "                new_pixels.add((x,y))\n",
    "    return new_pixels"
   ]
  },
  {
   "cell_type": "code",
   "execution_count": 3,
   "id": "187854e9",
   "metadata": {
    "ExecuteTime": {
     "end_time": "2021-12-20T16:41:28.256536Z",
     "start_time": "2021-12-20T16:41:24.578421Z"
    }
   },
   "outputs": [
    {
     "name": "stdout",
     "output_type": "stream",
     "text": [
      "Number of lit pixels: 5489\n",
      "Number of lit pixels: 19066\n"
     ]
    }
   ],
   "source": [
    "#gets the initial \"lit\" pixels\n",
    "pixels = get_pixels(input_image)\n",
    "\n",
    "for i in range(50):\n",
    "    pixels = enhance(pixels,outside = i%2 == 1)\n",
    "    if i == 1:\n",
    "        print('Number of lit pixels: {}'.format(len(pixels)))\n",
    "print('Number of lit pixels: {}'.format(len(pixels)))"
   ]
  }
 ],
 "metadata": {
  "kernelspec": {
   "display_name": "py9",
   "language": "python",
   "name": "py9"
  },
  "language_info": {
   "codemirror_mode": {
    "name": "ipython",
    "version": 3
   },
   "file_extension": ".py",
   "mimetype": "text/x-python",
   "name": "python",
   "nbconvert_exporter": "python",
   "pygments_lexer": "ipython3",
   "version": "3.9.7"
  }
 },
 "nbformat": 4,
 "nbformat_minor": 5
}
