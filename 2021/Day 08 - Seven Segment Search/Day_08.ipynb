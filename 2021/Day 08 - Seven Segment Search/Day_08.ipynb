{
 "cells": [
  {
   "cell_type": "code",
   "execution_count": 1,
   "id": "0c9d8f3b",
   "metadata": {},
   "outputs": [],
   "source": [
    "with open('day_08.txt') as f:\n",
    "    data = f.read().strip().split('\\n')\n",
    "    \n",
    "def split_data(r):\n",
    "    r = r.split(' | ')\n",
    "    inputs = r[0].split(' ')\n",
    "    outputs = r[1].split(' ')\n",
    "    return inputs, outputs      "
   ]
  },
  {
   "cell_type": "code",
   "execution_count": 2,
   "id": "8e421ce3",
   "metadata": {},
   "outputs": [],
   "source": [
    "#part 1\n",
    "def part1(data):\n",
    "    count = 0\n",
    "    for r in data:\n",
    "        inputs, outputs = split_data(r)  \n",
    "        for pattern in outputs:\n",
    "            if len(pattern) in [2,3,4,7]:\n",
    "                count += 1\n",
    "    print(\"Part 1:\", count)"
   ]
  },
  {
   "cell_type": "code",
   "execution_count": 3,
   "id": "6e8d732f",
   "metadata": {},
   "outputs": [],
   "source": [
    "def decode(inputs):\n",
    "    maps = [set()] * 10 #one map for each digit\n",
    "\n",
    "    #unique patterns\n",
    "    for pattern in inputs:\n",
    "        if len(pattern) == 2:      # 1\n",
    "            maps[1] = set(pattern)\n",
    "        elif len(pattern) == 3:      # 7\n",
    "            maps[7] = set(pattern)\n",
    "        elif len(pattern) == 4:      # 4\n",
    "            maps[4] = set(pattern)\n",
    "        elif len(pattern) == 7:      # 8\n",
    "            maps[8] = set(pattern)\n",
    "\n",
    "    #digits with 6 segments\n",
    "    for pattern in inputs:\n",
    "        if len(pattern) == 6:\n",
    "            if len(maps[1] - set(pattern)) == 1:  # 6\n",
    "                maps[6] = set(pattern)\n",
    "            elif len(maps[4] - set(pattern)) == 0: # 9\n",
    "                maps[9] = set(pattern)\n",
    "            elif len(maps[4] - set(pattern)) != 0: # 0\n",
    "                maps[0] = set(pattern)\n",
    "\n",
    "    #digits with 5 segments\n",
    "    for pattern in inputs:\n",
    "        if len(pattern) == 5:\n",
    "            if len(maps[1] - set(pattern)) == 0: # 3\n",
    "                maps[3] = set(pattern)\n",
    "            elif len(set(pattern) - maps[6]) == 0: # 5\n",
    "                maps[5] = set(pattern)\n",
    "            elif len(set(pattern) - maps[6]) == 1: # 2\n",
    "                maps[2] = set(pattern)\n",
    "    \n",
    "    return maps"
   ]
  },
  {
   "cell_type": "code",
   "execution_count": 4,
   "id": "22ee4540",
   "metadata": {},
   "outputs": [],
   "source": [
    "def calc(maps,output):\n",
    "    #converts the output codes into numbers\n",
    "    s = ''\n",
    "    for num in output:\n",
    "        s += str(maps.index(set(num.strip()))) #finds corresponding number \n",
    "    total = int(s)\n",
    "    return total"
   ]
  },
  {
   "cell_type": "code",
   "execution_count": 5,
   "id": "bc073a1d",
   "metadata": {},
   "outputs": [],
   "source": [
    "#part 2\n",
    "def part2(data):\n",
    "    total = 0\n",
    "    for r in data:\n",
    "        inputs, outputs = split_data(r) #splits data\n",
    "        maps = decode(inputs) #figures out encoding scheme\n",
    "        total += calc(maps, outputs) #sums up the converted outputs\n",
    "    print(\"Part 2:\", total)"
   ]
  },
  {
   "cell_type": "code",
   "execution_count": 6,
   "id": "f0b98954",
   "metadata": {},
   "outputs": [
    {
     "name": "stdout",
     "output_type": "stream",
     "text": [
      "Part 1: 349\n",
      "Part 2: 1070957\n"
     ]
    }
   ],
   "source": [
    "part1(data)\n",
    "part2(data)"
   ]
  }
 ],
 "metadata": {
  "kernelspec": {
   "display_name": "Python 3",
   "language": "python",
   "name": "python3"
  },
  "language_info": {
   "codemirror_mode": {
    "name": "ipython",
    "version": 3
   },
   "file_extension": ".py",
   "mimetype": "text/x-python",
   "name": "python",
   "nbconvert_exporter": "python",
   "pygments_lexer": "ipython3",
   "version": "3.8.8"
  }
 },
 "nbformat": 4,
 "nbformat_minor": 5
}
