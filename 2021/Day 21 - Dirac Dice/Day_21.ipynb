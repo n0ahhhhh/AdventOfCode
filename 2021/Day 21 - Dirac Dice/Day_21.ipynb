{
 "cells": [
  {
   "cell_type": "code",
   "execution_count": 1,
   "id": "fed3c2a6",
   "metadata": {
    "ExecuteTime": {
     "end_time": "2021-12-21T07:47:53.196087Z",
     "start_time": "2021-12-21T07:47:52.746308Z"
    }
   },
   "outputs": [
    {
     "name": "stderr",
     "output_type": "stream",
     "text": [
      "[advent] Getting input for year 2021 day 21... done (from disk).\n"
     ]
    }
   ],
   "source": [
    "from aoc_helpers import advent\n",
    "from collections import defaultdict\n",
    "\n",
    "advent.setup(2021,21)\n",
    "fin = advent.get_input()"
   ]
  },
  {
   "cell_type": "code",
   "execution_count": 2,
   "id": "1a07f92c",
   "metadata": {
    "ExecuteTime": {
     "end_time": "2021-12-21T07:47:53.200496Z",
     "start_time": "2021-12-21T07:47:53.197063Z"
    }
   },
   "outputs": [],
   "source": [
    "pos = fin.read().strip().split('\\n')\n",
    "\n",
    "p1_pos = int(pos[0][-1])\n",
    "p2_pos = int(pos[1][-1])"
   ]
  },
  {
   "cell_type": "code",
   "execution_count": null,
   "id": "107e3595",
   "metadata": {
    "ExecuteTime": {
     "end_time": "2021-12-21T06:19:51.718938Z",
     "start_time": "2021-12-21T06:19:51.712104Z"
    }
   },
   "outputs": [],
   "source": []
  },
  {
   "cell_type": "code",
   "execution_count": 3,
   "id": "7ca7895e",
   "metadata": {
    "ExecuteTime": {
     "end_time": "2021-12-21T07:47:53.212207Z",
     "start_time": "2021-12-21T07:47:53.201472Z"
    }
   },
   "outputs": [
    {
     "name": "stdout",
     "output_type": "stream",
     "text": [
      "p1: 671, p2: 1001, rolls: 1338\n",
      "671 point x 1338 rolls = 897798\n"
     ]
    }
   ],
   "source": [
    "p1_score = p2_score = 0\n",
    "i = 1\n",
    "while (p1_score < 1000) and (p2_score < 1000):\n",
    "    p1_pos += (i + (i+1) + (i+2))%10\n",
    "    i += 3\n",
    "    p2_pos += (i + (i+1) + (i+2))%10\n",
    "    i += 3\n",
    "    \n",
    "    p1_pos = p1_pos%10\n",
    "    p2_pos = p2_pos%10\n",
    "    \n",
    "    p1_score += p1_pos\n",
    "    p2_score += p2_pos\n",
    "#     print('p1_pos: {}, p2_pos: {}'.format(p1_pos, p2_pos))\n",
    "print('p1: {}, p2: {}, rolls: {}'.format(p1_score, p2_score,i-1))\n",
    "print('{} point x {} rolls = {}'.format(min(p1_score,p2_score), i-1, min(p1_score,p2_score)*(i-1)))"
   ]
  },
  {
   "cell_type": "code",
   "execution_count": 4,
   "id": "d783d8bc",
   "metadata": {
    "ExecuteTime": {
     "end_time": "2021-12-21T07:47:53.217087Z",
     "start_time": "2021-12-21T07:47:53.213184Z"
    }
   },
   "outputs": [],
   "source": [
    "possible_rolls = defaultdict(int)\n",
    "for d1 in range(1,4):\n",
    "    for d2 in range(1,4):\n",
    "        for d3 in range(1,4):\n",
    "            possible_rolls[d1+d2+d3] += 1"
   ]
  },
  {
   "cell_type": "code",
   "execution_count": 6,
   "id": "3d80534b",
   "metadata": {
    "ExecuteTime": {
     "end_time": "2021-12-21T07:48:33.018257Z",
     "start_time": "2021-12-21T07:48:32.978028Z"
    }
   },
   "outputs": [
    {
     "name": "stdout",
     "output_type": "stream",
     "text": [
      "48868319769358\n"
     ]
    }
   ],
   "source": [
    "import functools\n",
    "\n",
    "@functools.cache\n",
    "def play(pos1, pos2, score1=0, score2=0):\n",
    "    if score2 >= 21: return 0, 1\n",
    "\n",
    "    wins1, wins2 = 0, 0\n",
    "    for move, n in (3,1),(4,3),(5,6),(6,7),(7,6),(8,3),(9,1):\n",
    "        pos1_ = (pos1 + move) % 10 or 10\n",
    "        w2, w1 = play(pos2, pos1_, score2, score1 + pos1_)\n",
    "        wins1, wins2 = wins1 + n*w1, wins2 + n*w2\n",
    "    return wins1, wins2\n",
    "\n",
    "print(max(play(1, 3)))"
   ]
  },
  {
   "cell_type": "code",
   "execution_count": null,
   "id": "06d13ed3",
   "metadata": {},
   "outputs": [],
   "source": []
  }
 ],
 "metadata": {
  "kernelspec": {
   "display_name": "py9",
   "language": "python",
   "name": "py9"
  },
  "language_info": {
   "codemirror_mode": {
    "name": "ipython",
    "version": 3
   },
   "file_extension": ".py",
   "mimetype": "text/x-python",
   "name": "python",
   "nbconvert_exporter": "python",
   "pygments_lexer": "ipython3",
   "version": "3.9.7"
  }
 },
 "nbformat": 4,
 "nbformat_minor": 5
}
