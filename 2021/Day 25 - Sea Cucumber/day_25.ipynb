{
 "cells": [
  {
   "cell_type": "code",
   "execution_count": 1,
   "id": "939da4e4",
   "metadata": {
    "ExecuteTime": {
     "end_time": "2021-12-26T06:34:16.612788Z",
     "start_time": "2021-12-26T06:34:16.169929Z"
    }
   },
   "outputs": [
    {
     "name": "stderr",
     "output_type": "stream",
     "text": [
      "[advent] Getting input for year 2021 day 25... done (from disk).\n"
     ]
    }
   ],
   "source": [
    "from aoc_helpers import advent\n",
    "from itertools import count\n",
    "\n",
    "advent.setup(2021,25)\n",
    "fin = advent.get_input()"
   ]
  },
  {
   "cell_type": "code",
   "execution_count": 2,
   "id": "d7f012fa",
   "metadata": {
    "ExecuteTime": {
     "end_time": "2021-12-26T06:34:16.628796Z",
     "start_time": "2021-12-26T06:34:16.613786Z"
    }
   },
   "outputs": [],
   "source": [
    "grid = list(map(list, fin.read().split()))"
   ]
  },
  {
   "cell_type": "code",
   "execution_count": 5,
   "id": "a4114511",
   "metadata": {
    "ExecuteTime": {
     "end_time": "2021-12-26T06:35:30.090403Z",
     "start_time": "2021-12-26T06:35:30.083423Z"
    }
   },
   "outputs": [],
   "source": [
    "def evolve(grid):\n",
    "    h, w = len(grid), len(grid[0])\n",
    "    steps = 0\n",
    "    \n",
    "    for steps in count(1):\n",
    "        advance = []\n",
    "        for r in range(h):\n",
    "            for c in range(w):\n",
    "                newc = (c+1) % w\n",
    "\n",
    "                if grid[r][c] == '>' and grid[r][newc] == '.':\n",
    "                    advance.append((r,c,newc))\n",
    "\n",
    "        for r, c, newc in advance:\n",
    "            grid[r][c] = '.'\n",
    "            grid[r][newc] = '>'\n",
    "\n",
    "        horiz_done = not advance\n",
    "        advance = []\n",
    "\n",
    "        for r in range(h):\n",
    "            for c in range(w):\n",
    "                newr = (r+1) % h\n",
    "\n",
    "                if grid[r][c] == 'v' and grid[newr][c] == '.':\n",
    "                    advance.append((r,c,newr))\n",
    "\n",
    "        if horiz_done and not advance:\n",
    "            break\n",
    "\n",
    "        for r, c, newr in advance:\n",
    "            grid[r][c] = '.'\n",
    "            grid[newr][c] = 'v'\n",
    "            \n",
    "    return steps"
   ]
  },
  {
   "cell_type": "code",
   "execution_count": 6,
   "id": "3f13769b",
   "metadata": {
    "ExecuteTime": {
     "end_time": "2021-12-26T06:35:32.630618Z",
     "start_time": "2021-12-26T06:35:31.047511Z"
    }
   },
   "outputs": [
    {
     "name": "stdout",
     "output_type": "stream",
     "text": [
      "432\n"
     ]
    }
   ],
   "source": [
    "ans = evolve(grid)\n",
    "print(ans)"
   ]
  }
 ],
 "metadata": {
  "kernelspec": {
   "display_name": "py9",
   "language": "python",
   "name": "py9"
  },
  "language_info": {
   "codemirror_mode": {
    "name": "ipython",
    "version": 3
   },
   "file_extension": ".py",
   "mimetype": "text/x-python",
   "name": "python",
   "nbconvert_exporter": "python",
   "pygments_lexer": "ipython3",
   "version": "3.9.7"
  }
 },
 "nbformat": 4,
 "nbformat_minor": 5
}
