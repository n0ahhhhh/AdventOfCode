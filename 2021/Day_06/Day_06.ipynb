{
 "cells": [
  {
   "cell_type": "code",
   "execution_count": 2,
   "id": "f0647f67",
   "metadata": {},
   "outputs": [
    {
     "name": "stdout",
     "output_type": "stream",
     "text": [
      "Number of fish after 80 days: 380243\n",
      "Number of fish after 256 days: 1708791884591\n"
     ]
    }
   ],
   "source": [
    "#read in data\n",
    "with open(\"day_06.txt\") as f:\n",
    "    data = f.read().strip().split(',')\n",
    "    fish = [int(f) for f in data]\n",
    "\n",
    "from collections import defaultdict\n",
    "\n",
    "def run_days(num_days):\n",
    "    #put all fish in the dictionary\n",
    "    ages = defaultdict(int)\n",
    "    for f in fish:\n",
    "        ages[f] += 1 #effectively counts number of fish w/ certain age\n",
    "        \n",
    "    for day in range(num_days):\n",
    "        n = defaultdict(int)\n",
    "        for age, count in ages.items():\n",
    "            if age > 0:\n",
    "                n[age - 1] += count #effectively decrements count\n",
    "            else:\n",
    "                n[6] += count\n",
    "                n[8] += count\n",
    "        ages = n\n",
    "    return sum(ages.values())\n",
    "\n",
    "print(\"Number of fish after 80 days:\", run_days(80))\n",
    "print(\"Number of fish after 256 days:\", run_days(256))"
   ]
  }
 ],
 "metadata": {
  "kernelspec": {
   "display_name": "Python 3",
   "language": "python",
   "name": "python3"
  },
  "language_info": {
   "codemirror_mode": {
    "name": "ipython",
    "version": 3
   },
   "file_extension": ".py",
   "mimetype": "text/x-python",
   "name": "python",
   "nbconvert_exporter": "python",
   "pygments_lexer": "ipython3",
   "version": "3.8.8"
  }
 },
 "nbformat": 4,
 "nbformat_minor": 5
}
