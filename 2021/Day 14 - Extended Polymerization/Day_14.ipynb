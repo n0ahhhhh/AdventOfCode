{
 "cells": [
  {
   "cell_type": "code",
   "execution_count": 3,
   "id": "de915865",
   "metadata": {
    "ExecuteTime": {
     "end_time": "2021-12-14T15:57:58.317455Z",
     "start_time": "2021-12-14T15:57:58.299497Z"
    }
   },
   "outputs": [],
   "source": [
    "from collections import defaultdict\n",
    "from collections import Counter\n",
    "\n",
    "with open('day_14.txt') as f:\n",
    "    inputs = f.read()\n",
    "    template, pairs = inputs.split('\\n\\n')\n",
    "    pairs = pairs.split('\\n')"
   ]
  },
  {
   "cell_type": "code",
   "execution_count": 4,
   "id": "b6d39982",
   "metadata": {
    "ExecuteTime": {
     "end_time": "2021-12-14T15:57:58.333417Z",
     "start_time": "2021-12-14T15:57:58.318453Z"
    }
   },
   "outputs": [
    {
     "data": {
      "text/plain": [
       "{'FV': 'H',\n",
       " 'SB': 'P',\n",
       " 'NV': 'S',\n",
       " 'BS': 'K',\n",
       " 'KB': 'V',\n",
       " 'HB': 'H',\n",
       " 'NB': 'N',\n",
       " 'VB': 'P',\n",
       " 'CN': 'C',\n",
       " 'CF': 'N',\n",
       " 'OF': 'P',\n",
       " 'FO': 'K',\n",
       " 'OC': 'F',\n",
       " 'BN': 'V',\n",
       " 'PO': 'O',\n",
       " 'OS': 'B',\n",
       " 'KH': 'N',\n",
       " 'BB': 'C',\n",
       " 'PV': 'K',\n",
       " 'ON': 'K',\n",
       " 'NF': 'H',\n",
       " 'BV': 'K',\n",
       " 'SN': 'N',\n",
       " 'PB': 'S',\n",
       " 'PK': 'F',\n",
       " 'PF': 'S',\n",
       " 'BP': 'K',\n",
       " 'SP': 'K',\n",
       " 'NN': 'K',\n",
       " 'FP': 'N',\n",
       " 'NK': 'N',\n",
       " 'SF': 'P',\n",
       " 'HS': 'C',\n",
       " 'OH': 'C',\n",
       " 'FS': 'H',\n",
       " 'VH': 'N',\n",
       " 'CO': 'P',\n",
       " 'VP': 'H',\n",
       " 'FF': 'N',\n",
       " 'KP': 'B',\n",
       " 'BH': 'B',\n",
       " 'PP': 'F',\n",
       " 'SS': 'P',\n",
       " 'CV': 'S',\n",
       " 'HO': 'P',\n",
       " 'PN': 'K',\n",
       " 'SO': 'O',\n",
       " 'NO': 'O',\n",
       " 'NH': 'V',\n",
       " 'HH': 'F',\n",
       " 'KK': 'C',\n",
       " 'VO': 'B',\n",
       " 'KS': 'B',\n",
       " 'SV': 'O',\n",
       " 'OP': 'S',\n",
       " 'VK': 'H',\n",
       " 'KF': 'O',\n",
       " 'CP': 'H',\n",
       " 'SH': 'H',\n",
       " 'NC': 'S',\n",
       " 'KC': 'O',\n",
       " 'CK': 'H',\n",
       " 'CH': 'B',\n",
       " 'KO': 'O',\n",
       " 'OV': 'P',\n",
       " 'VF': 'V',\n",
       " 'HN': 'P',\n",
       " 'FH': 'P',\n",
       " 'BC': 'V',\n",
       " 'HV': 'N',\n",
       " 'BO': 'V',\n",
       " 'PH': 'P',\n",
       " 'NP': 'F',\n",
       " 'FN': 'F',\n",
       " 'FK': 'P',\n",
       " 'SC': 'C',\n",
       " 'KN': 'S',\n",
       " 'NS': 'S',\n",
       " 'OK': 'S',\n",
       " 'HK': 'O',\n",
       " 'PC': 'O',\n",
       " 'BK': 'O',\n",
       " 'OO': 'P',\n",
       " 'BF': 'N',\n",
       " 'SK': 'V',\n",
       " 'VS': 'B',\n",
       " 'HP': 'H',\n",
       " 'VC': 'V',\n",
       " 'KV': 'P',\n",
       " 'FC': 'H',\n",
       " 'HC': 'O',\n",
       " 'HF': 'S',\n",
       " 'CB': 'H',\n",
       " 'CC': 'B',\n",
       " 'PS': 'C',\n",
       " 'OB': 'B',\n",
       " 'CS': 'S',\n",
       " 'VV': 'S',\n",
       " 'VN': 'H',\n",
       " 'FB': 'N'}"
      ]
     },
     "execution_count": 4,
     "metadata": {},
     "output_type": "execute_result"
    }
   ],
   "source": [
    "#put pair insertion rules in a dictionary\n",
    "pair_rules = {}\n",
    "for line in pairs:\n",
    "    pair_rules[line[:2]] = line[-1]\n",
    "pair_rules"
   ]
  },
  {
   "cell_type": "code",
   "execution_count": 5,
   "id": "aaf05b7d",
   "metadata": {
    "ExecuteTime": {
     "end_time": "2021-12-14T15:57:58.349389Z",
     "start_time": "2021-12-14T15:57:58.334410Z"
    },
    "code_folding": [
     0
    ]
   },
   "outputs": [],
   "source": [
    "# def insert_polymer(template, steps):\n",
    "#     step = 0\n",
    "#     while step < steps:\n",
    "#         print(' ----- STEP {} ----- '.format(step))\n",
    "#         i = 0\n",
    "#         new_template = []\n",
    "#         for i in range(len(template)-1):\n",
    "#             half1 = template[:i+1]\n",
    "#             pair = template[i:i+2]\n",
    "#             half2 = template[i+1:]        \n",
    "#             temp = half1 + pair_rules[pair] + half2        \n",
    "#             new_template.append(temp[i:i+2])\n",
    "# #             print('i: {}, checking: {}, half1: {}, insert: {}, half2: {}'.format(i, pair, half1, pair_rules[pair], half2))\n",
    "#             if i == len(template)-2:\n",
    "#     #             print('i: {} - last go:'.format(i, temp[-3:]))\n",
    "#                 new_template.append(temp[-1])\n",
    "#                 template = ''.join(new_template)\n",
    "#             else:\n",
    "#                 i += 1\n",
    "#         step += 1\n",
    "#     return template"
   ]
  },
  {
   "cell_type": "code",
   "execution_count": 6,
   "id": "d8ad0243",
   "metadata": {
    "ExecuteTime": {
     "end_time": "2021-12-14T15:57:58.365331Z",
     "start_time": "2021-12-14T15:57:58.350367Z"
    }
   },
   "outputs": [],
   "source": [
    "def insert_polymer2(template, steps):\n",
    "    pair_counts = defaultdict(int)\n",
    "    char_counts = defaultdict(int, Counter(template))\n",
    "\n",
    "    for first, second in zip(template[:-1], template[1:]):\n",
    "        pair_counts[''.join((first, second))] += 1 #adds each pair from inital template to dict\n",
    "    \n",
    "    for _ in range(steps):\n",
    "        new_pair_counts = defaultdict(int)\n",
    "        for pair, count in pair_counts.items():\n",
    "            first, second = pair\n",
    "            between = pair_rules[pair]\n",
    "            new_pair_counts[''.join((first, between))] += count #counts new pairs\n",
    "            new_pair_counts[''.join((between, second))] += count\n",
    "            char_counts[between] += count\n",
    "        pair_counts = new_pair_counts\n",
    "    return max(char_counts.values()) - min(char_counts.values())"
   ]
  },
  {
   "cell_type": "code",
   "execution_count": 7,
   "id": "0e5d80eb",
   "metadata": {
    "ExecuteTime": {
     "end_time": "2021-12-14T15:57:58.381431Z",
     "start_time": "2021-12-14T15:57:58.366324Z"
    }
   },
   "outputs": [
    {
     "data": {
      "text/plain": [
       "2651311098752"
      ]
     },
     "execution_count": 7,
     "metadata": {},
     "output_type": "execute_result"
    }
   ],
   "source": [
    "insert_polymer2(template,40) #KHSNHFKVVSVPSCVHBHNP"
   ]
  }
 ],
 "metadata": {
  "kernelspec": {
   "display_name": "Python 3",
   "language": "python",
   "name": "python3"
  },
  "language_info": {
   "codemirror_mode": {
    "name": "ipython",
    "version": 3
   },
   "file_extension": ".py",
   "mimetype": "text/x-python",
   "name": "python",
   "nbconvert_exporter": "python",
   "pygments_lexer": "ipython3",
   "version": "3.8.8"
  },
  "toc": {
   "base_numbering": 1,
   "nav_menu": {},
   "number_sections": true,
   "sideBar": true,
   "skip_h1_title": false,
   "title_cell": "Table of Contents",
   "title_sidebar": "Contents",
   "toc_cell": false,
   "toc_position": {},
   "toc_section_display": true,
   "toc_window_display": false
  }
 },
 "nbformat": 4,
 "nbformat_minor": 5
}
