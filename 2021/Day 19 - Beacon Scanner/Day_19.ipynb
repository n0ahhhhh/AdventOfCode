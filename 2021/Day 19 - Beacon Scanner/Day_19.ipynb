{
 "cells": [
  {
   "cell_type": "code",
   "execution_count": 1,
   "id": "fb439751",
   "metadata": {
    "ExecuteTime": {
     "end_time": "2021-12-20T00:34:14.936740Z",
     "start_time": "2021-12-20T00:34:14.832326Z"
    }
   },
   "outputs": [],
   "source": [
    "# ORIGINAL AUTHOR: davearussell\n",
    "# https://github.com/davearussell/advent2021/blob/master/day19/solve.py\n",
    "# I'm using their solution as a means of studying and understanding the concepts \n",
    "# behind this puzzle.\n",
    "\n",
    "from aoc_helpers import advent"
   ]
  },
  {
   "cell_type": "code",
   "execution_count": 2,
   "id": "195f18be",
   "metadata": {
    "ExecuteTime": {
     "end_time": "2021-12-20T00:34:15.379767Z",
     "start_time": "2021-12-20T00:34:14.937441Z"
    }
   },
   "outputs": [
    {
     "name": "stderr",
     "output_type": "stream",
     "text": [
      "[advent] Created cache directory '..\\2021\\Day 19 - Beacon Scanner' since it did not exist.\n",
      "[advent] Getting input for year 2021 day 19... downloading... done.\n"
     ]
    }
   ],
   "source": [
    "advent.setup(2021,19)\n",
    "fin = advent.get_input()"
   ]
  },
  {
   "cell_type": "code",
   "execution_count": 3,
   "id": "843ea003",
   "metadata": {
    "ExecuteTime": {
     "end_time": "2021-12-20T00:34:15.390266Z",
     "start_time": "2021-12-20T00:34:15.379767Z"
    }
   },
   "outputs": [],
   "source": [
    "def parse_input(path):\n",
    "    scanners = [] #start with an 'empty' list of scanners\n",
    "    for line in map(str.rstrip, path):\n",
    "        if '---' in line:\n",
    "            assert int(line.split()[2]) == len(scanners) #counts and adds scanner\n",
    "            scanners.append([])\n",
    "        elif line.strip():\n",
    "            #take all the points and append them to the last scanner added\n",
    "            scanners[-1].append(tuple(map(int, line.split(','))))\n",
    "    return scanners\n",
    "\n",
    "def orient_all(known_beacons, known_scanners, unaligned_readings):\n",
    "    while unaligned_readings:\n",
    "        progress = False\n",
    "        for readings in unaligned_readings:\n",
    "            beacons, scanner_pos = try_orient_and_align(known_beacons, readings)\n",
    "            if beacons:\n",
    "                unaligned_readings.remove(readings)\n",
    "                known_beacons |= beacons\n",
    "                known_scanners.append(scanner_pos)\n",
    "                progress = True\n",
    "        assert progress\n",
    "        \n",
    "def try_orient_and_align(known_beacons, readings):\n",
    "    #figures out the 24 different orientations for each scanner\n",
    "    for axis1 in range(3):\n",
    "        for sign1 in [1, -1]:\n",
    "            for axis2 in {0, 1, 2} - {axis1}:\n",
    "                for sign2 in [1, -1]:\n",
    "#                     print('axis1: {}, sign1: {}, axis2: {}, sign2: {}'.format(axis1, sign1, axis2, sign2))\n",
    "                    orientation = (axis1, sign1, axis2, sign2)\n",
    "                    unaligned_beacons = [reorient(reading, *orientation)\n",
    "                                         for reading in readings]\n",
    "                    aligned_beacons, scanner_pos = try_align(known_beacons, unaligned_beacons)\n",
    "                    if aligned_beacons:\n",
    "                        return aligned_beacons, scanner_pos\n",
    "    return None, None\n",
    "\n",
    "def try_align(known_beacons, unaligned_beacons):\n",
    "    for axis in range(3):\n",
    "        known_sorted = sorted(known_beacons, key = lambda pos: pos[axis])\n",
    "        unaligned_beacons.sort(key = lambda pos: pos[axis])\n",
    "        known_diffs = diffs(known_sorted)\n",
    "        unaligned_diffs = diffs(unaligned_beacons)\n",
    "        inter = set(known_diffs) & set(unaligned_diffs)\n",
    "        if inter:\n",
    "            diff = inter.pop()\n",
    "            kx, ky, kz = known_sorted[known_diffs.index(diff)]\n",
    "            ux, uy, uz = unaligned_beacons[unaligned_diffs.index(diff)]\n",
    "            ox, oy, oz = (ux - kx, uy - ky, uz - kz)\n",
    "            moved = {(x - ox, y - oy, z - oz) for (x, y, z) in unaligned_beacons}\n",
    "            matches = known_beacons & moved\n",
    "            if len(matches) >= 12:\n",
    "                return moved, (ox, oy, oz)\n",
    "    return None, None\n",
    "\n",
    "def reorient(pos, axis1, sign1, axis2, sign2):\n",
    "    axis3 = 3 - (axis1 + axis2)\n",
    "    sign3 = 1 if (((axis2 - axis1) % 3 == 1) ^ (sign1 != sign2)) else -1\n",
    "    return (pos[axis1] * sign1, pos[axis2] * sign2, pos[axis3] * sign3)\n",
    "\n",
    "def diffs(poses):\n",
    "    return [\n",
    "        (x1 - x0, y1 - y0, z1 - z0)\n",
    "        for (x0, y0, z0), (x1, y1, z1)\n",
    "        in zip (poses, poses[1:])\n",
    "    ]"
   ]
  },
  {
   "cell_type": "code",
   "execution_count": 4,
   "id": "9721314e",
   "metadata": {
    "ExecuteTime": {
     "end_time": "2021-12-20T00:34:15.552499Z",
     "start_time": "2021-12-20T00:34:15.391241Z"
    }
   },
   "outputs": [
    {
     "name": "stdout",
     "output_type": "stream",
     "text": [
      "Part 1: 318\n",
      "Part 2: 12166\n"
     ]
    }
   ],
   "source": [
    "scanner_readings = parse_input(fin)\n",
    "known_scanners = [(0, 0, 0)] #start with one known scanner at position (0,0,0)\n",
    "known_beacons = set(scanner_readings[0]) #the first scanners beacons\n",
    "unaligned_readings = scanner_readings[1:] #all other scanners beacon readings\n",
    "orient_all(known_beacons, known_scanners, unaligned_readings)\n",
    "print(\"Part 1:\", len(known_beacons))\n",
    "\n",
    "max_dist = 0\n",
    "for x0, y0, z0 in known_scanners:\n",
    "    for x1, y1, z1 in known_scanners:\n",
    "        dist = abs(x1 - x0) + abs(y1 - y0) + abs(z1 - z0)\n",
    "        max_dist = max(dist, max_dist)\n",
    "print(\"Part 2:\", max_dist)"
   ]
  }
 ],
 "metadata": {
  "kernelspec": {
   "display_name": "py9",
   "language": "python",
   "name": "py9"
  },
  "language_info": {
   "codemirror_mode": {
    "name": "ipython",
    "version": 3
   },
   "file_extension": ".py",
   "mimetype": "text/x-python",
   "name": "python",
   "nbconvert_exporter": "python",
   "pygments_lexer": "ipython3",
   "version": "3.9.7"
  }
 },
 "nbformat": 4,
 "nbformat_minor": 5
}
