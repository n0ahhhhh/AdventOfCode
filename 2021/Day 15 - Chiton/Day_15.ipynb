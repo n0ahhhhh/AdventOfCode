{
 "cells": [
  {
   "cell_type": "code",
   "execution_count": 1,
   "id": "4ae9d482",
   "metadata": {
    "ExecuteTime": {
     "end_time": "2021-12-15T17:47:06.843986Z",
     "start_time": "2021-12-15T17:47:06.832275Z"
    }
   },
   "outputs": [],
   "source": [
    "grid = [[int(c) for c in line.strip()] for line in open(\"day_15.txt\", \"r\").readlines()]"
   ]
  },
  {
   "cell_type": "code",
   "execution_count": 2,
   "id": "d23ce958",
   "metadata": {
    "ExecuteTime": {
     "end_time": "2021-12-15T17:47:06.848866Z",
     "start_time": "2021-12-15T17:47:06.844962Z"
    }
   },
   "outputs": [],
   "source": [
    "def adjacents(y,x,H,W):   \n",
    "    adjacent = [(y-1,x),(y+1,x),(y,x-1),(y,x+1)] #up, down, left right \n",
    "    return [(a,b) for a,b in adjacent if 0 <= a < H and 0 <= b < W]"
   ]
  },
  {
   "cell_type": "code",
   "execution_count": 3,
   "id": "f061d84f",
   "metadata": {
    "ExecuteTime": {
     "end_time": "2021-12-15T17:47:06.855699Z",
     "start_time": "2021-12-15T17:47:06.849842Z"
    }
   },
   "outputs": [],
   "source": [
    "from collections import defaultdict\n",
    "from itertools import filterfalse\n",
    "from math import inf as INFINITY\n",
    "import heapq\n",
    "\n",
    "def dijkstra(grid):\n",
    "    H, W = len(grid), len(grid[0])\n",
    "    source = (0, 0)\n",
    "    destination = (H - 1, W - 1)\n",
    "\n",
    "    # Start with only the source in our queue of nodes to visit and in the\n",
    "    # mindist dictionary, with distance 0.\n",
    "    queue = [(0, source)]\n",
    "    mindist = defaultdict(lambda: INFINITY, {source: 0})\n",
    "    visited = set()\n",
    "\n",
    "    while queue:\n",
    "        # Get the node with lowest distance from the queue (and its distance)\n",
    "        dist, node = heapq.heappop(queue)\n",
    "\n",
    "        # If we got to the destination, we have our answer.\n",
    "        if node == destination:\n",
    "            return dist\n",
    "\n",
    "        # If we already visited this node, skip it, proceed to the next one.\n",
    "        if node in visited:\n",
    "            continue\n",
    "\n",
    "        # Mark the node as visited.\n",
    "        visited.add(node)\n",
    "        r, c = node\n",
    "        # For each neighbor of this node:\n",
    "        for neighbor in adjacents(r,c,H,W):\n",
    "            # Calculate the total distance from the source to this neighbor\n",
    "            # passing through this node.\n",
    "            nr, nc  = neighbor\n",
    "            newdist = dist + grid[nr][nc]\n",
    "\n",
    "            # If the new distance is lower than the minimum distance we have to\n",
    "            # reach this neighbor, then update its minimum distance and add it\n",
    "            # to the queue, as we found a \"better\" path to it.\n",
    "            if newdist < mindist[neighbor]:\n",
    "                mindist[neighbor] = newdist\n",
    "                heapq.heappush(queue, (newdist, neighbor))\n",
    "        \n",
    "    # If we ever empty the queue without entering the node == destination check\n",
    "    # in the above loop, there is no path from source to destination!\n",
    "    return INFINITY"
   ]
  },
  {
   "cell_type": "code",
   "execution_count": 4,
   "id": "c2a2257c",
   "metadata": {
    "ExecuteTime": {
     "end_time": "2021-12-15T17:47:06.889858Z",
     "start_time": "2021-12-15T17:47:06.856675Z"
    }
   },
   "outputs": [
    {
     "name": "stdout",
     "output_type": "stream",
     "text": [
      "Part 1: 656\n"
     ]
    }
   ],
   "source": [
    "min_risk = dijkstra(grid)\n",
    "print('Part 1:', min_risk)"
   ]
  },
  {
   "cell_type": "code",
   "execution_count": 5,
   "id": "d70623d6",
   "metadata": {
    "ExecuteTime": {
     "end_time": "2021-12-15T17:47:07.770704Z",
     "start_time": "2021-12-15T17:47:06.890834Z"
    },
    "code_folding": [],
    "scrolled": true
   },
   "outputs": [
    {
     "name": "stdout",
     "output_type": "stream",
     "text": [
      "Part 2: 2979\n"
     ]
    }
   ],
   "source": [
    "tileh = len(grid)\n",
    "tilew = len(grid[0])\n",
    "\n",
    "for _ in range(4):\n",
    "    for row in grid:\n",
    "        tail = row[-tilew:]\n",
    "        row.extend((x + 1) if x < 9 else 1 for x in tail)\n",
    "\n",
    "for _ in range(4):\n",
    "    for row in grid[-tileh:]:\n",
    "        row = [(x + 1) if x < 9 else 1 for x in row]\n",
    "        grid.append(row)\n",
    "\n",
    "minrisk = dijkstra(grid)\n",
    "print('Part 2:', minrisk)"
   ]
  }
 ],
 "metadata": {
  "kernelspec": {
   "display_name": "Python 3",
   "language": "python",
   "name": "python3"
  },
  "language_info": {
   "codemirror_mode": {
    "name": "ipython",
    "version": 3
   },
   "file_extension": ".py",
   "mimetype": "text/x-python",
   "name": "python",
   "nbconvert_exporter": "python",
   "pygments_lexer": "ipython3",
   "version": "3.8.8"
  }
 },
 "nbformat": 4,
 "nbformat_minor": 5
}
