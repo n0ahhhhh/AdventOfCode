{
 "cells": [
  {
   "cell_type": "code",
   "execution_count": 1,
   "id": "9e692e1d",
   "metadata": {},
   "outputs": [],
   "source": [
    "with open('day_12.txt') as f:\n",
    "    data = [line.strip().split('-') for line in f.readlines()]"
   ]
  },
  {
   "cell_type": "code",
   "execution_count": 2,
   "id": "5ae5319f",
   "metadata": {},
   "outputs": [],
   "source": [
    "#adds all of the caves to graph adjacency dictionary\n",
    "graph = {\n",
    "    \"start\": [],\n",
    "    \"end\": []} #put this here for convenience when displaying it\n",
    "\n",
    "for line in data:\n",
    "    a, b = line[0], line[1]\n",
    "    \n",
    "    if a not in graph.keys():\n",
    "        graph[a] =  []\n",
    "    if b not in graph.keys():\n",
    "        graph[b] = []\n",
    "    \n",
    "    graph[a].append(b)    \n",
    "    graph[b].append(a)"
   ]
  },
  {
   "cell_type": "code",
   "execution_count": 3,
   "id": "cabaf355",
   "metadata": {},
   "outputs": [
    {
     "data": {
      "text/plain": [
       "{'start': ['gv', 'WO', 'zt'],\n",
       " 'end': ['WO', 'HW', 'zs'],\n",
       " 'zs': ['WO', 'QJ', 'DP', 'HW', 'SK', 'end'],\n",
       " 'WO': ['zs', 'zt', 'end', 'iu', 'gv', 'start'],\n",
       " 'QJ': ['zs'],\n",
       " 'zt': ['WO', 'gv', 'HW', 'start'],\n",
       " 'DP': ['zs', 'gv', 'by', 'iu'],\n",
       " 'gv': ['zt', 'WO', 'start', 'DP', 'HW'],\n",
       " 'iu': ['SK', 'WO', 'HW', 'DP'],\n",
       " 'SK': ['iu', 'zs'],\n",
       " 'HW': ['zs', 'zt', 'iu', 'gv', 'end'],\n",
       " 'by': ['DP']}"
      ]
     },
     "execution_count": 3,
     "metadata": {},
     "output_type": "execute_result"
    }
   ],
   "source": [
    "graph"
   ]
  },
  {
   "cell_type": "code",
   "execution_count": 4,
   "id": "6a84d599",
   "metadata": {},
   "outputs": [
    {
     "name": "stdout",
     "output_type": "stream",
     "text": [
      "120506\n"
     ]
    }
   ],
   "source": [
    "node = 'start'\n",
    "count = 0\n",
    "cur_path = [0, node]\n",
    "all_paths = [cur_path]\n",
    "\n",
    "while len(all_paths) != 0:\n",
    "    if node.islower() and cur_path.count(node) > 1:\n",
    "        cur_path[0] = 1\n",
    "        \n",
    "    for n in graph[node]:\n",
    "#         print('node: {}, cur_path: {}, checking: {}'.format(node, cur_path, n))\n",
    "        if n == 'start':\n",
    "            continue\n",
    "        if n == 'end':\n",
    "            count += 1\n",
    "            continue\n",
    "        if n in cur_path and n.islower() and cur_path[0] == 1: #is it another small cave?\n",
    "            continue\n",
    "        \n",
    "        #when done checking all adjacents, add cur_path to all_paths\n",
    "#         print('when does this happen. n: {}'.format(n))\n",
    "        all_paths.append(cur_path + [n])\n",
    "#         print('all_paths: {}'.format(all_paths))\n",
    "\n",
    "    cur_path = all_paths.pop()\n",
    "    node = cur_path[-1]\n",
    "print(count)"
   ]
  }
 ],
 "metadata": {
  "kernelspec": {
   "display_name": "Python 3",
   "language": "python",
   "name": "python3"
  },
  "language_info": {
   "codemirror_mode": {
    "name": "ipython",
    "version": 3
   },
   "file_extension": ".py",
   "mimetype": "text/x-python",
   "name": "python",
   "nbconvert_exporter": "python",
   "pygments_lexer": "ipython3",
   "version": "3.8.8"
  }
 },
 "nbformat": 4,
 "nbformat_minor": 5
}
