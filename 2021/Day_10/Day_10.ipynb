{
 "cells": [
  {
   "cell_type": "code",
   "execution_count": 1,
   "id": "921c152c",
   "metadata": {},
   "outputs": [],
   "source": [
    "data = [line.strip() for line in open(\"day_10.txt\", \"r\").readlines()]"
   ]
  },
  {
   "cell_type": "code",
   "execution_count": 2,
   "id": "42d35a34",
   "metadata": {},
   "outputs": [],
   "source": [
    "#define our symbols\n",
    "openers = ['(', '[', '{', '<']\n",
    "closers = [')', ']', '}', '>']\n",
    "\n",
    "corrupted = {} #keeps track of corrupt symbols\n",
    "still_need = [] #keeps track of waht we need to correct the line\n",
    "\n",
    "for row in data:\n",
    "    opened = []\n",
    "    expecting = []\n",
    "    for idx, c in enumerate(row):\n",
    "        opened.append(c)\n",
    "        #tracks our last checked symbol\n",
    "        if len(opened) > 1:\n",
    "            previous = opened[-2]\n",
    "            \n",
    "        #if we opened a chunk, this tracks the corresponding closer for the chunk    \n",
    "        if c in openers:\n",
    "            expecting.append(closers[openers.index(c)])\n",
    "            \n",
    "        #if it's a closer, check if it's good or bad\n",
    "        if c in closers:      \n",
    "            #the chunk is legal, and we can proceed\n",
    "            if closers.index(c) == openers.index(previous): \n",
    "                opened = opened[:-2] #removes the closer, and it's opener\n",
    "                expecting.pop() #we're no longer expecting this symbol\n",
    "            \n",
    "            #the chunk is illegal\n",
    "            else:\n",
    "                if c in corrupted: #keeps track of how many symbols are corrupt\n",
    "                    corrupted[c] += 1\n",
    "                else:\n",
    "                    corrupted[c] = 1\n",
    "                \n",
    "                #since it's illegal, we no longer care about the entire line\n",
    "                expecting.clear()\n",
    "                break\n",
    "    \n",
    "    #string of expecting closing characters\n",
    "    if expecting:\n",
    "        expecting.reverse()\n",
    "        still_need.append(expecting)"
   ]
  },
  {
   "cell_type": "code",
   "execution_count": 3,
   "id": "ca3864ce",
   "metadata": {},
   "outputs": [],
   "source": [
    "#each corrupt symbol is worth a certain number of points\n",
    "def get_p1_score(d):\n",
    "    p1_score = 0\n",
    "    p1_points = [3, 57, 1197, 25137] #our given point values\n",
    "    for k,v in d.items():\n",
    "        p1_score += p1_points[closers.index(k)] * v\n",
    "    return p1_score"
   ]
  },
  {
   "cell_type": "code",
   "execution_count": 4,
   "id": "2e7c05b7",
   "metadata": {},
   "outputs": [],
   "source": [
    "def get_p2_score(array):\n",
    "    p2_scores = []\n",
    "    p2_points = [1,2,3,4]\n",
    "\n",
    "    for row in array:\n",
    "        score = 0\n",
    "        for c in row:\n",
    "            score = score * 5 + p2_points[closers.index(c)]\n",
    "        p2_scores.append(score)\n",
    "\n",
    "    p2_scores.sort()\n",
    "    p2_score = p2_scores[len(p2_scores)//2]\n",
    "    return p2_score"
   ]
  },
  {
   "cell_type": "code",
   "execution_count": 5,
   "id": "0097ec39",
   "metadata": {},
   "outputs": [
    {
     "name": "stdout",
     "output_type": "stream",
     "text": [
      "362271\n",
      "1698395182\n"
     ]
    }
   ],
   "source": [
    "print(get_p1_score(corrupted))\n",
    "print(get_p2_score(still_need))"
   ]
  }
 ],
 "metadata": {
  "kernelspec": {
   "display_name": "Python 3",
   "language": "python",
   "name": "python3"
  },
  "language_info": {
   "codemirror_mode": {
    "name": "ipython",
    "version": 3
   },
   "file_extension": ".py",
   "mimetype": "text/x-python",
   "name": "python",
   "nbconvert_exporter": "python",
   "pygments_lexer": "ipython3",
   "version": "3.8.8"
  }
 },
 "nbformat": 4,
 "nbformat_minor": 5
}
