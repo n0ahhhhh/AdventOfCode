{
 "cells": [
  {
   "cell_type": "code",
   "execution_count": 1,
   "id": "4369cbd1",
   "metadata": {
    "ExecuteTime": {
     "end_time": "2021-12-16T16:40:56.863159Z",
     "start_time": "2021-12-16T16:40:56.859255Z"
    }
   },
   "outputs": [],
   "source": [
    "import math\n",
    "\n",
    "with open('day_16.txt') as f:\n",
    "    packet = f.read()"
   ]
  },
  {
   "cell_type": "code",
   "execution_count": 2,
   "id": "55e93067",
   "metadata": {
    "ExecuteTime": {
     "end_time": "2021-12-16T16:40:56.869991Z",
     "start_time": "2021-12-16T16:40:56.864135Z"
    }
   },
   "outputs": [
    {
     "data": {
      "text/plain": [
       "'60552F100693298A9EF0039D24B129BA56D67282E600A4B5857002439CE580E5E5AEF67803600D2E294B2FCE8AC489BAEF37FEACB31A678548034EA0086253B183F4F6BDDE864B13CBCFBC4C10066508E3F4B4B9965300470026E92DC2960691F7F3AB32CBE834C01A9B7A933E9D241003A520DF316647002E57C1331DFCE16A249802DA009CAD2117993CD2A253B33C8BA00277180390F60E45D30062354598AA4008641A8710FCC01492FB75004850EE5210ACEF68DE2A327B12500327D848028ED0046661A209986896041802DA0098002131621842300043E3C4168B12BCB6835C00B6033F480C493003C40080029F1400B70039808AC30024C009500208064C601674804E870025003AA400BED8024900066272D7A7F56A8FB0044B272B7C0E6F2392E3460094FAA5002512957B98717004A4779DAECC7E9188AB008B93B7B86CB5E47B2B48D7CAD3328FB76B40465243C8018F49CA561C979C182723D769642200412756271FC80460A00CC0401D8211A2270803D10A1645B947B3004A4BA55801494BC330A5BB6E28CCE60BE6012CB2A4A854A13CD34880572523898C7EDE1A9FA7EED53F1F38CD418080461B00440010A845152360803F0FA38C7798413005E4FB102D004E6492649CC017F004A448A44826AB9BFAB5E0AA8053306B0CE4D324BB2149ADDA2904028600021909E0AC7F0004221FC36826200FC3C8EB10940109DED1960CCE9A1008C731CB4FD0B8BD004872BC8C3A432BC8C3A4240231CF1C78028200F41485F100001098EB1F234900505224328612AF33A97367EA00CC4585F315073004E4C2B003530004363847889E200C45985F140C010A005565FD3F06C249F9E3BC8280804B234CA3C962E1F1C64ADED77D10C3002669A0C0109FB47D9EC58BC01391873141197DCBCEA401E2CE80D0052331E95F373798F4AF9B998802D3B64C9AB6617080'"
      ]
     },
     "execution_count": 2,
     "metadata": {},
     "output_type": "execute_result"
    }
   ],
   "source": [
    "packet"
   ]
  },
  {
   "cell_type": "code",
   "execution_count": 3,
   "id": "82f0f259",
   "metadata": {
    "ExecuteTime": {
     "end_time": "2021-12-16T16:40:56.881527Z",
     "start_time": "2021-12-16T16:40:56.870967Z"
    }
   },
   "outputs": [],
   "source": [
    "def hex_to_bin(hexadecimal):\n",
    "    end_length = len(hexadecimal) * 4 #4 bits for each hex\n",
    "    hex_as_bin = bin(int(hexadecimal,16))\n",
    "    padded_bin = hex_as_bin[2:].zfill(end_length)\n",
    "    return padded_bin\n",
    "\n",
    "def bin_to_dec(binary):\n",
    "    return int(binary,2)\n",
    "\n",
    "def make_packet(binary):\n",
    "    packet = {\n",
    "        'version': bin_to_dec(binary[:3]),\n",
    "        'type_id': bin_to_dec(binary[3:6]),\n",
    "        'children': []\n",
    "    }\n",
    "    if packet['type_id'] == 4:\n",
    "        packet['value'], bit_remainder = read_literal(binary[6:])\n",
    "        return packet, bit_remainder\n",
    "    return packet_w_sub_packets(binary, packet)\n",
    "\n",
    "def read_literal(binary): # type id = 4\n",
    "    bit_remainder = binary\n",
    "    last_group = False\n",
    "    literal_bin = ''\n",
    "    while last_group != True:\n",
    "        last_group = bit_remainder[0] == '0'\n",
    "        literal_bin += bit_remainder[1:5]\n",
    "        bit_remainder = bit_remainder[5:]\n",
    "    return bin_to_dec(literal_bin), bit_remainder\n",
    "\n",
    "def get_version(packet):\n",
    "    return (packet['version'] + sum(get_version(child) for child in packet['children']))\n",
    "\n",
    "def packet_w_sub_packets(binary, packet):\n",
    "    length_type_id = binary[6]\n",
    "    if length_type_id == '0': # length of sub packets in next 15 bits\n",
    "        length_subpackets = bin_to_dec(binary[7:22])\n",
    "        sub_remainder = binary[22:(22+length_subpackets)]\n",
    "        bit_remainder = binary[22+length_subpackets:] #should be trailing 0's?\n",
    "        while len(sub_remainder) > 0:\n",
    "            sub_packet, sub_remainder = make_packet(sub_remainder)\n",
    "            packet['children'].append(sub_packet)\n",
    "    else: # number of subpackets contained in current packet (11 bits)\n",
    "        num_subpackets = bin_to_dec(binary[7:18])\n",
    "        bit_remainder = binary[18:]\n",
    "        for _ in range(num_subpackets):\n",
    "            sub_packet, bit_remainder = make_packet(bit_remainder)\n",
    "            packet['children'].append(sub_packet)\n",
    "    return packet, bit_remainder\n",
    "\n",
    "def get_value(packet):\n",
    "    if packet['type_id'] == 0:\n",
    "        return sum(get_value(child) for child in packet['children'])\n",
    "    if packet['type_id'] == 1:\n",
    "        return math.prod(get_value(child) for child in packet['children'])\n",
    "    if packet['type_id'] == 2:\n",
    "        return min(get_value(child) for child in packet['children'])\n",
    "    if packet['type_id'] == 3:\n",
    "        return max(get_value(child) for child in packet['children'])\n",
    "    if packet['type_id'] == 4:\n",
    "        return packet['value']\n",
    "    if packet['type_id'] == 5:\n",
    "        return get_value(packet['children'][0]) > get_value(packet['children'][1])\n",
    "    if packet['type_id'] == 6:\n",
    "        return get_value(packet['children'][0]) < get_value(packet['children'][1])\n",
    "    if packet['type_id'] == 7:\n",
    "        return get_value(packet['children'][0]) == get_value(packet['children'][1])"
   ]
  },
  {
   "cell_type": "code",
   "execution_count": 4,
   "id": "5fd2c40b",
   "metadata": {
    "ExecuteTime": {
     "end_time": "2021-12-16T16:40:56.889856Z",
     "start_time": "2021-12-16T16:40:56.882055Z"
    }
   },
   "outputs": [
    {
     "name": "stdout",
     "output_type": "stream",
     "text": [
      "Part 1: 877\n",
      "Part 2: 194435634456\n"
     ]
    }
   ],
   "source": [
    "tree, _ = make_packet(hex_to_bin(packet))\n",
    "version_sum = get_version(tree)\n",
    "root_value = get_value(tree)\n",
    "print('Part 1:', version_sum)\n",
    "print('Part 2:', root_value)"
   ]
  }
 ],
 "metadata": {
  "kernelspec": {
   "display_name": "Python 3",
   "language": "python",
   "name": "python3"
  },
  "language_info": {
   "codemirror_mode": {
    "name": "ipython",
    "version": 3
   },
   "file_extension": ".py",
   "mimetype": "text/x-python",
   "name": "python",
   "nbconvert_exporter": "python",
   "pygments_lexer": "ipython3",
   "version": "3.8.8"
  }
 },
 "nbformat": 4,
 "nbformat_minor": 5
}
