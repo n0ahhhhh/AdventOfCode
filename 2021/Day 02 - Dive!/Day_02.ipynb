{
 "cells": [
  {
   "cell_type": "code",
   "execution_count": 7,
   "id": "1da538d0",
   "metadata": {
    "scrolled": true
   },
   "outputs": [
    {
     "data": {
      "text/html": [
       "<div>\n",
       "<style scoped>\n",
       "    .dataframe tbody tr th:only-of-type {\n",
       "        vertical-align: middle;\n",
       "    }\n",
       "\n",
       "    .dataframe tbody tr th {\n",
       "        vertical-align: top;\n",
       "    }\n",
       "\n",
       "    .dataframe thead th {\n",
       "        text-align: right;\n",
       "    }\n",
       "</style>\n",
       "<table border=\"1\" class=\"dataframe\">\n",
       "  <thead>\n",
       "    <tr style=\"text-align: right;\">\n",
       "      <th></th>\n",
       "      <th>Direction</th>\n",
       "      <th>Num</th>\n",
       "    </tr>\n",
       "  </thead>\n",
       "  <tbody>\n",
       "    <tr>\n",
       "      <th>0</th>\n",
       "      <td>forward</td>\n",
       "      <td>8</td>\n",
       "    </tr>\n",
       "    <tr>\n",
       "      <th>1</th>\n",
       "      <td>down</td>\n",
       "      <td>6</td>\n",
       "    </tr>\n",
       "    <tr>\n",
       "      <th>2</th>\n",
       "      <td>down</td>\n",
       "      <td>8</td>\n",
       "    </tr>\n",
       "    <tr>\n",
       "      <th>3</th>\n",
       "      <td>forward</td>\n",
       "      <td>7</td>\n",
       "    </tr>\n",
       "    <tr>\n",
       "      <th>4</th>\n",
       "      <td>down</td>\n",
       "      <td>5</td>\n",
       "    </tr>\n",
       "  </tbody>\n",
       "</table>\n",
       "</div>"
      ],
      "text/plain": [
       "  Direction  Num\n",
       "0   forward    8\n",
       "1      down    6\n",
       "2      down    8\n",
       "3   forward    7\n",
       "4      down    5"
      ]
     },
     "execution_count": 7,
     "metadata": {},
     "output_type": "execute_result"
    }
   ],
   "source": [
    "#read in data and remove '\\n' characters\n",
    "data = [line.rstrip('\\n') for line in open(\"day_02.txt\")]\n",
    "\n",
    "#splits instructions and appends to form list of lists\n",
    "course_pair = []\n",
    "for r in data:\n",
    "    split = r.split()\n",
    "    course_pair.append(split)\n",
    "\n",
    "#creates dataframe from list of lists\n",
    "directions = pd.DataFrame(course_pair, columns =['Direction', 'Num'])\n",
    "directions['Num'] = directions['Num'].astype(int)\n",
    "directions.head()"
   ]
  },
  {
   "cell_type": "code",
   "execution_count": 23,
   "id": "10d26994",
   "metadata": {
    "scrolled": true
   },
   "outputs": [
    {
     "name": "stdout",
     "output_type": "stream",
     "text": [
      "h_pos: 1996\n",
      "v_pos: 1022\n",
      "The final answer is: 2039912\n"
     ]
    }
   ],
   "source": [
    "#initial variables containing our positions\n",
    "h_pos = 0\n",
    "v_pos = 0\n",
    "\n",
    "#for each row, check direction and +/- \n",
    "for index, r in directions.iterrows():    \n",
    "    if r['Direction'] == 'forward':\n",
    "        h_pos += r['Num']\n",
    "    elif r['Direction'] == 'down':\n",
    "        v_pos += r['Num']\n",
    "    else:\n",
    "        v_pos -= r['Num']\n",
    "        \n",
    "print(\"h_pos:\", h_pos)\n",
    "print(\"v_pos:\", v_pos)\n",
    "\n",
    "#multiply both positions together\n",
    "p1_ans = h_pos * v_pos\n",
    "print('The final answer is:', p1_ans)"
   ]
  },
  {
   "cell_type": "code",
   "execution_count": 27,
   "id": "7ad18512",
   "metadata": {},
   "outputs": [
    {
     "name": "stdout",
     "output_type": "stream",
     "text": [
      "h_pos: 1996\n",
      "v_pos: 972980\n",
      "The final answer is: 1942068080\n"
     ]
    }
   ],
   "source": [
    "#initial variables containing our positions\n",
    "h_pos_new = 0\n",
    "v_pos_new = 0\n",
    "aim = 0\n",
    "\n",
    "#for each row, check direction and +/- \n",
    "for index, r in directions.iterrows():    \n",
    "    if r['Direction'] == 'forward':\n",
    "        h_pos_new += r['Num']\n",
    "        v_pos_new += (r['Num'] * aim)\n",
    "    elif r['Direction'] == 'down':\n",
    "        aim += r['Num']\n",
    "    else:\n",
    "        aim -= r['Num']\n",
    "        \n",
    "print(\"h_pos:\", h_pos_new)\n",
    "print(\"v_pos:\", v_pos_new)\n",
    "\n",
    "#multiply both positions together\n",
    "p2_ans = h_pos_new * v_pos_new\n",
    "print('The final answer is:', p2_ans)"
   ]
  }
 ],
 "metadata": {
  "kernelspec": {
   "display_name": "Python 3",
   "language": "python",
   "name": "python3"
  },
  "language_info": {
   "codemirror_mode": {
    "name": "ipython",
    "version": 3
   },
   "file_extension": ".py",
   "mimetype": "text/x-python",
   "name": "python",
   "nbconvert_exporter": "python",
   "pygments_lexer": "ipython3",
   "version": "3.8.8"
  }
 },
 "nbformat": 4,
 "nbformat_minor": 5
}
