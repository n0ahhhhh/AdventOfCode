{
 "cells": [
  {
   "cell_type": "code",
   "execution_count": 1,
   "id": "aab700b0",
   "metadata": {},
   "outputs": [],
   "source": [
    "import statistics \n",
    "\n",
    "with open('day_07.txt') as f:\n",
    "    data = f.read().strip().split(',')\n",
    "    data = list(map(int, data))"
   ]
  },
  {
   "cell_type": "code",
   "execution_count": 2,
   "id": "85f3c03f",
   "metadata": {},
   "outputs": [],
   "source": [
    "median = int(statistics.median(data)) #part1\n",
    "mean = int(sum(data) / len(data)) #part2"
   ]
  },
  {
   "cell_type": "code",
   "execution_count": 3,
   "id": "e39f714c",
   "metadata": {},
   "outputs": [],
   "source": [
    "#counts steps/fuel for part 2\n",
    "def get_sum(steps):\n",
    "    summ = 0\n",
    "    for i in range(1, steps+1):\n",
    "        summ += i\n",
    "    return summ\n",
    "\n",
    "#finds distance from value to median\n",
    "def p1(median):\n",
    "    above = []\n",
    "    below = []\n",
    "    for x in data:\n",
    "        if x == median:\n",
    "            continue\n",
    "        if x < median:\n",
    "            below.append(median-x)\n",
    "        if x > median:\n",
    "            above.append(x - median) \n",
    "    return sum(above) + sum(below)\n",
    "\n",
    "#similar to above, but uses mean value instead of median\n",
    "def p2(mean):\n",
    "    above = []\n",
    "    below = []\n",
    "    for x in data:\n",
    "        if x == mean:\n",
    "            continue\n",
    "        if x < mean:\n",
    "            below.append(get_sum(mean-x))\n",
    "        if x > mean:\n",
    "            above.append(get_sum(x - mean))\n",
    "    return sum(above) + sum(below)"
   ]
  },
  {
   "cell_type": "code",
   "execution_count": 4,
   "id": "d0b578fd",
   "metadata": {},
   "outputs": [
    {
     "name": "stdout",
     "output_type": "stream",
     "text": [
      "Part 1 answer: 340987 \n",
      "Part 2 answer: 96987874\n"
     ]
    }
   ],
   "source": [
    "total_p1 = p1(median)\n",
    "total_p2 = p2(mean)\n",
    "print(\"Part 1 answer:\",total_p1, \"\\nPart 2 answer:\", total_p2)"
   ]
  }
 ],
 "metadata": {
  "kernelspec": {
   "display_name": "Python 3",
   "language": "python",
   "name": "python3"
  },
  "language_info": {
   "codemirror_mode": {
    "name": "ipython",
    "version": 3
   },
   "file_extension": ".py",
   "mimetype": "text/x-python",
   "name": "python",
   "nbconvert_exporter": "python",
   "pygments_lexer": "ipython3",
   "version": "3.8.8"
  }
 },
 "nbformat": 4,
 "nbformat_minor": 5
}
