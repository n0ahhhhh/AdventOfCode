{
 "cells": [
  {
   "cell_type": "code",
   "execution_count": 1,
   "id": "c7b9c3f5",
   "metadata": {},
   "outputs": [
    {
     "name": "stdout",
     "output_type": "stream",
     "text": [
      "Matrix Size: 100 x 100\n"
     ]
    }
   ],
   "source": [
    "data = [[int(c) for c in line.strip()] for line in open(\"day_09.txt\", \"r\").readlines()]\n",
    "    \n",
    "# M x N matrix\n",
    "N = len(data)\n",
    "M = len(data[0])\n",
    "print(\"Matrix Size: {} x {}\".format(M,N))"
   ]
  },
  {
   "cell_type": "code",
   "execution_count": 2,
   "id": "a658ef19",
   "metadata": {
    "scrolled": true
   },
   "outputs": [
    {
     "name": "stdout",
     "output_type": "stream",
     "text": [
      "603\n"
     ]
    }
   ],
   "source": [
    "#returns up to 4 tuples of adjacent points\n",
    "def adjacents(y,x):   #up, down, left right\n",
    "    adjacent = [(y-1,x),(y+1,x),(y,x-1),(y,x+1)]\n",
    "    return [(a,b) for a,b in adjacent if 0 <= a < N and 0 <= b < M]\n",
    "\n",
    "def get_sum(data,indices):\n",
    "    return sum(data[y][x] + 1 for y,x in indices)\n",
    "\n",
    "#part 1 \n",
    "lowpoints= []\n",
    "for y in range(N): #rows\n",
    "    for x in range(M): #columns\n",
    "        if all(data[y][x] < data[a][b] for a,b in adjacents(y,x)):\n",
    "            lowpoints.append((y,x))\n",
    "            \n",
    "print(get_sum(data,lowpoints))"
   ]
  },
  {
   "cell_type": "code",
   "execution_count": 8,
   "id": "72c32a42",
   "metadata": {},
   "outputs": [
    {
     "name": "stdout",
     "output_type": "stream",
     "text": [
      "786780\n"
     ]
    }
   ],
   "source": [
    "#part 2\n",
    "\n",
    "def get_basin(y,x):\n",
    "    basin = {(y,x)}\n",
    "    for a,b in adjacents(y,x):\n",
    "        if data[a][b] > data[y][x] and data[a][b] < 9:\n",
    "            basin |= get_basin(a,b)\n",
    "    return basin\n",
    "\n",
    "def big_basin(lowpoints):\n",
    "    basin_sizes = sorted([len(get_basin(y, x)) for y, x in lowpoints])\n",
    "    return (basin_sizes[-3] * basin_sizes[-2] * basin_sizes[-1])\n",
    "\n",
    "print(big_basin(lowpoints))"
   ]
  }
 ],
 "metadata": {
  "kernelspec": {
   "display_name": "Python 3",
   "language": "python",
   "name": "python3"
  },
  "language_info": {
   "codemirror_mode": {
    "name": "ipython",
    "version": 3
   },
   "file_extension": ".py",
   "mimetype": "text/x-python",
   "name": "python",
   "nbconvert_exporter": "python",
   "pygments_lexer": "ipython3",
   "version": "3.8.8"
  }
 },
 "nbformat": 4,
 "nbformat_minor": 5
}
