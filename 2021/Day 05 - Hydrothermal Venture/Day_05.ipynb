{
 "cells": [
  {
   "cell_type": "code",
   "execution_count": 1,
   "id": "3cd4b473",
   "metadata": {},
   "outputs": [],
   "source": [
    "#read in data\n",
    "with open(\"day_05.txt\") as f:\n",
    "    data = f.readlines()"
   ]
  },
  {
   "cell_type": "code",
   "execution_count": 2,
   "id": "ad779742",
   "metadata": {},
   "outputs": [],
   "source": [
    "#list to store start/end points\n",
    "lines = []\n",
    "\n",
    "#get individual numbers\n",
    "for r in data:\n",
    "    start, end = r.split(\" -> \")\n",
    "    sx, sy = [int(i) for i in start.split(',')]\n",
    "    ex, ey = [int(i) for i in end.split(',')]\n",
    "    lines.append([sx, sy, ex, ey])\n",
    "    \n",
    "xlist = []\n",
    "ylist = []\n",
    "\n",
    "for r in lines:\n",
    "    xlist.extend([r[0], r[2]])\n",
    "    ylist.extend([r[1], r[3]])\n",
    "    \n",
    "xmax = max(xlist)\n",
    "ymax = max(ylist)\n",
    "\n",
    "# create a simple array with numpy empty()\n",
    "# ymax and xmax are switched because our 'y' is the 'depth' on the grid\n",
    "# which equates to the number of rows\n",
    "overlap = np.zeros([ymax+1,xmax+1])\n"
   ]
  },
  {
   "cell_type": "code",
   "execution_count": 3,
   "id": "9335a4b9",
   "metadata": {},
   "outputs": [
    {
     "data": {
      "text/plain": [
       "19571"
      ]
     },
     "execution_count": 3,
     "metadata": {},
     "output_type": "execute_result"
    }
   ],
   "source": [
    "def get_line(line):\n",
    "# for line in lines:\n",
    "    sx, ex = line[0], line[2]\n",
    "    sy, ey = line[1], line[3]\n",
    "    \n",
    "    #VERTICAL LINE\n",
    "    if sx == ex: #if x1 == x2 it's a vertical line\n",
    "#         print(\"VERTICAL LINE\")\n",
    "        if sy < ey:\n",
    "            y_len = range(sy, ey+1)\n",
    "        else:\n",
    "            y_len = range(ey, sy+1)\n",
    "        for y in y_len:\n",
    "            overlap[y][sx] += 1\n",
    "    \n",
    "    #HORIZONTAL LINE\n",
    "    elif sy == ey: #if y[1] == y[2] it's a horizontal line\n",
    "#         print(\"HORIZONTAL LINE\")\n",
    "        if sx < ex:\n",
    "            x_len = range(sx, ex+1)\n",
    "        else:\n",
    "            x_len = range(ex, sx+1)\n",
    "        for x in x_len:\n",
    "            overlap[sy][x] += 1\n",
    "            \n",
    "    #DIAGONAL LINE\n",
    "    else:\n",
    "#         print(\"DIAGONAL LINE\")\n",
    "        if (sx < ex) & (sy < ey): #southeast\n",
    "            x_len = range(sx, ex+1)\n",
    "            y_len = range(sy, ey+1) \n",
    "        elif (sx < ex) & (sy > ey): #northeast\n",
    "            x_len = range(sx, ex+1)\n",
    "            y_len = range(sy, ey-1, -1)\n",
    "        elif (sx > ex) & (sy < ey): #southwest\n",
    "            x_len = range(sx, ex-1, -1)\n",
    "            y_len = range(sy, ey+1)\n",
    "        elif (sx > ex) & (sy > ey): #northwest\n",
    "            x_len = range(ex, sx+1)\n",
    "            y_len = range(ey, sy+1)\n",
    "        for i, x in enumerate(x_len):\n",
    "            overlap[y_len[i]][x] += 1\n",
    "\n",
    "for line in lines:\n",
    "    get_line(line)\n",
    "    \n",
    "np.count_nonzero(overlap > 1)"
   ]
  }
 ],
 "metadata": {
  "kernelspec": {
   "display_name": "Python 3",
   "language": "python",
   "name": "python3"
  },
  "language_info": {
   "codemirror_mode": {
    "name": "ipython",
    "version": 3
   },
   "file_extension": ".py",
   "mimetype": "text/x-python",
   "name": "python",
   "nbconvert_exporter": "python",
   "pygments_lexer": "ipython3",
   "version": "3.8.8"
  }
 },
 "nbformat": 4,
 "nbformat_minor": 5
}
