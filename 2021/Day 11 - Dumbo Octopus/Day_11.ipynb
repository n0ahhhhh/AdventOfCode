{
 "cells": [
  {
   "cell_type": "code",
   "execution_count": 1,
   "id": "e451753d",
   "metadata": {},
   "outputs": [],
   "source": [
    "energy = [[int(c) for c in line.strip()] for line in open(\"day_11.txt\", \"r\").readlines()]\n",
    "\n",
    "# M x N matrix\n",
    "N = len(energy)\n",
    "M = len(energy[0])"
   ]
  },
  {
   "cell_type": "code",
   "execution_count": 2,
   "id": "50690f70",
   "metadata": {},
   "outputs": [],
   "source": [
    "from collections import defaultdict\n",
    "\n",
    "def print_data(pos_lev, num):\n",
    "    vals = list(pos_lev.values())\n",
    "    octopus = np.reshape(vals, (10, 10))\n",
    "    print(' ------ CYCLE {} ------ '.format(num))\n",
    "    print(octopus, '\\n')\n",
    "\n",
    "def adjacents(y,x):   #up, down, left right\n",
    "    adjacent = [(y-1,x),(y+1,x),(y,x-1),(y,x+1),\n",
    "                (y-1,x-1),(y+1,x-1),(y-1,x+1),(y+1,x+1)] #diagonals\n",
    "    return [(a,b) for a,b in adjacent if 0 <= a < N and 0 <= b < M]\n",
    "\n",
    "def get_position_and_level(data):\n",
    "    levels = defaultdict(int)\n",
    "    for idy, row in enumerate (data):\n",
    "        for idx, o in enumerate (row): #(idy, idx) = x,y coords\n",
    "            pos = (idy,idx)\n",
    "            levels[pos] = o\n",
    "    return levels"
   ]
  },
  {
   "cell_type": "code",
   "execution_count": 3,
   "id": "2c399a25",
   "metadata": {},
   "outputs": [],
   "source": [
    "def check_flash(pos_lev, total_flashes):\n",
    "    num_flashes = 0\n",
    "    for pos in pos_lev:\n",
    "        pos_lev[pos] += 1\n",
    "        \n",
    "    just_flashed = set([pos for pos in pos_lev if pos_lev[pos] == 10])\n",
    "    all_flashes = set(just_flashed)\n",
    "    \n",
    "    while len(just_flashed) > 0:\n",
    "        new_flashes = set() # new flashes caused by neighboring flashes\n",
    "        for i in just_flashed:\n",
    "            x, y = (i[0], i[1])\n",
    "            for n in adjacents(x,y):\n",
    "                pos_lev[n] += 1\n",
    "                if pos_lev[n] == 10:\n",
    "                    new_flashes.add(n)\n",
    "        all_flashes = all_flashes.union(new_flashes) #remembers new flashes\n",
    "        just_flashed = new_flashes\n",
    "        \n",
    "    num_flashes += len(all_flashes)\n",
    "    \n",
    "    #reset energy of flashed octopi\n",
    "    for i in all_flashes:\n",
    "        pos_lev[i] = 0\n",
    "        \n",
    "    return pos_lev, num_flashes\n",
    "\n",
    "def run_cycles(pos_lev, num_cycles):\n",
    "    total_flashes = 0\n",
    "    for num in range(num_cycles):\n",
    "        pos_lev, num_flashes = check_flash(pos_lev,total_flashes)\n",
    "        if num_flashes == M * N: #if ALL octopi flash at the same time\n",
    "            simultaneous = num + 1\n",
    "            print(\"Flashes:\", total_flashes)\n",
    "            return simultaneous\n",
    "        total_flashes += num_flashes\n",
    "    print(\"Flashes:\", total_flashes)"
   ]
  },
  {
   "cell_type": "code",
   "execution_count": 4,
   "id": "d5914dc3",
   "metadata": {
    "scrolled": false
   },
   "outputs": [
    {
     "name": "stdout",
     "output_type": "stream",
     "text": [
      "Flashes: 4287\n",
      "First cycle where ALL octopi are flashing: 273\n"
     ]
    }
   ],
   "source": [
    "pos_lev = get_position_and_level(energy) #dict[pos] = level\n",
    "cycle = run_cycles(pos_lev, 300)\n",
    "print('First cycle where ALL octopi are flashing:', cycle)"
   ]
  },
  {
   "cell_type": "code",
   "execution_count": null,
   "id": "a42c021b",
   "metadata": {},
   "outputs": [],
   "source": []
  }
 ],
 "metadata": {
  "kernelspec": {
   "display_name": "Python 3",
   "language": "python",
   "name": "python3"
  },
  "language_info": {
   "codemirror_mode": {
    "name": "ipython",
    "version": 3
   },
   "file_extension": ".py",
   "mimetype": "text/x-python",
   "name": "python",
   "nbconvert_exporter": "python",
   "pygments_lexer": "ipython3",
   "version": "3.8.8"
  }
 },
 "nbformat": 4,
 "nbformat_minor": 5
}
