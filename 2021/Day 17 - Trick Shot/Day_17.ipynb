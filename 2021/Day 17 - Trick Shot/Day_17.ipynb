{
 "cells": [
  {
   "cell_type": "code",
   "execution_count": 7,
   "id": "84711e9f",
   "metadata": {
    "ExecuteTime": {
     "end_time": "2021-12-17T16:55:16.721561Z",
     "start_time": "2021-12-17T16:55:16.714729Z"
    }
   },
   "outputs": [],
   "source": [
    "with open('day_17.txt') as f:\n",
    "    target = f.read()\n",
    "target = target.split('=')\n",
    "\n",
    "#target area coordinates\n",
    "x1, x2 = map(int, target[1][:-3].split('..'))\n",
    "y1, y2 = map(int, target[2].split('..'))\n",
    "\n",
    "#ranges\n",
    "x_range = max(abs(x1), abs(x2))\n",
    "y_range = max(abs(y1), abs(y2))"
   ]
  },
  {
   "cell_type": "code",
   "execution_count": 2,
   "id": "46e16a07",
   "metadata": {
    "ExecuteTime": {
     "end_time": "2021-12-17T07:09:22.876716Z",
     "start_time": "2021-12-17T07:09:22.872783Z"
    }
   },
   "outputs": [
    {
     "name": "stdout",
     "output_type": "stream",
     "text": [
      "x1: 111, x2: 161\n",
      "y1: -154, y2: -101\n",
      "x-range: 161, y-range:154\n"
     ]
    }
   ],
   "source": [
    "print('x1: {}, x2: {}'.format(x1,x2))\n",
    "print('y1: {}, y2: {}'.format(y1,y2))\n",
    "print('x-range: {}, y-range:{}'.format(x_range, y_range))"
   ]
  },
  {
   "cell_type": "code",
   "execution_count": 3,
   "id": "5c695eef",
   "metadata": {
    "ExecuteTime": {
     "end_time": "2021-12-17T07:09:22.882578Z",
     "start_time": "2021-12-17T07:09:22.877664Z"
    }
   },
   "outputs": [],
   "source": [
    "def step(pos, vel):\n",
    "    x,y = pos\n",
    "    vx,vy = vel\n",
    "    max_y = 0\n",
    "        \n",
    "    #check if in target (brute force?)\n",
    "    while x <= x2+1 and y1-1 <= y:\n",
    "        x += vx\n",
    "        y += vy\n",
    "        if max_y < y: max_y = y\n",
    "            \n",
    "        #is it in the target zone?\n",
    "        if x1 <= x <= x2 and y1 <= y <= y2:\n",
    "            return True, (x,y), max_y\n",
    "    \n",
    "        #alter velocities\n",
    "        vx -= (vx > 0) - (vx < 0)\n",
    "        vy -= 1\n",
    "    return False,(0,0),max_y"
   ]
  },
  {
   "cell_type": "code",
   "execution_count": 4,
   "id": "2044413d",
   "metadata": {
    "ExecuteTime": {
     "end_time": "2021-12-17T07:09:23.052570Z",
     "start_time": "2021-12-17T07:09:22.883549Z"
    },
    "code_folding": []
   },
   "outputs": [],
   "source": [
    "velocities = set()\n",
    "result = 0\n",
    "\n",
    "for x in range(x_range+1):\n",
    "    for y in range(-y_range,y_range+1):\n",
    "        isHit, pos, max_y = step((0,0),(x,y))\n",
    "        if isHit:\n",
    "#             print('Hit! ({},{}) max_y:{}'.format(x,y,max_y))\n",
    "            velocities.add((x,y))\n",
    "            result = max(result, max_y)\n"
   ]
  },
  {
   "cell_type": "code",
   "execution_count": 5,
   "id": "896c67ed",
   "metadata": {
    "ExecuteTime": {
     "end_time": "2021-12-17T07:09:23.056473Z",
     "start_time": "2021-12-17T07:09:23.053544Z"
    }
   },
   "outputs": [
    {
     "name": "stdout",
     "output_type": "stream",
     "text": [
      "Part 1: 11781\n",
      "Part 2: 4531\n"
     ]
    }
   ],
   "source": [
    "print('Part 1: {}'.format(result))\n",
    "print('Part 2: {}'.format(len(velocities)))"
   ]
  }
 ],
 "metadata": {
  "kernelspec": {
   "display_name": "py9",
   "language": "python",
   "name": "py9"
  },
  "language_info": {
   "codemirror_mode": {
    "name": "ipython",
    "version": 3
   },
   "file_extension": ".py",
   "mimetype": "text/x-python",
   "name": "python",
   "nbconvert_exporter": "python",
   "pygments_lexer": "ipython3",
   "version": "3.9.7"
  }
 },
 "nbformat": 4,
 "nbformat_minor": 5
}
