{
 "cells": [
  {
   "cell_type": "code",
   "execution_count": 1,
   "id": "a4c7fbd7",
   "metadata": {
    "ExecuteTime": {
     "end_time": "2021-12-18T23:57:23.841303Z",
     "start_time": "2021-12-18T23:57:23.837452Z"
    }
   },
   "outputs": [],
   "source": [
    "# TAKEN FROM ORIGINAL AUTHOR: github.com/shnako\n",
    "\n",
    "# We first parse the input into a list of elements containing [, ] and numbers - no commas as they're unnecessary.\n",
    "# We then reduce the list of elements by iteratively traversing it and applying the relevant operations.\n",
    "# The result for the first part is found by recursively calculating the magnitude of the summed lines.\n",
    "# The result for the second part is found by recursively calculating the maximum magnitude of all pairs of lines. "
   ]
  },
  {
   "cell_type": "code",
   "execution_count": 2,
   "id": "8e673ec3",
   "metadata": {
    "ExecuteTime": {
     "end_time": "2021-12-18T23:57:23.847159Z",
     "start_time": "2021-12-18T23:57:23.842279Z"
    }
   },
   "outputs": [],
   "source": [
    "from math import floor, ceil\n",
    "from copy import deepcopy\n",
    "\n",
    "with open('day_18.txt') as f:\n",
    "    lines = f.read().splitlines()"
   ]
  },
  {
   "cell_type": "code",
   "execution_count": 3,
   "id": "95480269",
   "metadata": {
    "ExecuteTime": {
     "end_time": "2021-12-18T23:57:23.855944Z",
     "start_time": "2021-12-18T23:57:23.848136Z"
    }
   },
   "outputs": [],
   "source": [
    "def parse_line(line):\n",
    "    #takes each line and separates it character by character\n",
    "    elements = filter(lambda element: element != ',', line)\n",
    "    elements = list(map(lambda element: int(element) if element.isdigit() else element, elements))\n",
    "    return elements\n",
    "\n",
    "def reduce_elements(elements):\n",
    "    has_reduced = True\n",
    "    while has_reduced:\n",
    "        has_reduced, elements = try_to_explode(elements)\n",
    "        if not has_reduced:\n",
    "            has_reduced, elements = try_to_split(elements)\n",
    "    return elements\n",
    "\n",
    "def try_to_explode(elements):\n",
    "    open_brackets = 0\n",
    "    for i in range(len(elements)):\n",
    "        if open_brackets == 4 and elements[i] == '[':\n",
    "            elements = explode(elements, i)\n",
    "            return True, elements\n",
    "        elif elements[i] == '[':\n",
    "            open_brackets += 1\n",
    "        elif elements[i] == ']':\n",
    "            open_brackets -= 1\n",
    "    return False, elements\n",
    "\n",
    "def explode(elements, opening_bracket_index):\n",
    "    left_number = elements[opening_bracket_index + 1]\n",
    "    right_number = elements[opening_bracket_index + 2]\n",
    "\n",
    "    for i in range(opening_bracket_index - 1, 0, -1):\n",
    "        if isinstance(elements[i], int):\n",
    "            elements[i] += left_number\n",
    "            break\n",
    "\n",
    "    for i in range(opening_bracket_index + 4, len(elements)):\n",
    "        if isinstance(elements[i], int):\n",
    "            elements[i] += right_number\n",
    "            break\n",
    "            \n",
    "    return elements[:opening_bracket_index] + [0] + elements[opening_bracket_index + 4:]\n",
    "\n",
    "def try_to_split(elements):\n",
    "    for i in range(len(elements)):\n",
    "        if isinstance(elements[i], int) and elements[i] >= 10:\n",
    "            elements[i:i + 1] = ['[', floor(elements[i] / 2), ceil(elements[i] / 2), ']']\n",
    "            return True, elements\n",
    "    return False, elements\n",
    "\n",
    "def calculate_magnitude(elements, index=0):\n",
    "    if isinstance(elements[index], int):\n",
    "        return elements[index], index\n",
    "\n",
    "    left_sum, index = calculate_magnitude(elements, index + 1)\n",
    "    right_sum, index = calculate_magnitude(elements, index + 1)\n",
    "    return 3 * left_sum + 2 * right_sum, index + 1"
   ]
  },
  {
   "cell_type": "code",
   "execution_count": 4,
   "id": "d45c35df",
   "metadata": {
    "ExecuteTime": {
     "end_time": "2021-12-18T23:57:23.951591Z",
     "start_time": "2021-12-18T23:57:23.856920Z"
    }
   },
   "outputs": [
    {
     "data": {
      "text/plain": [
       "4202"
      ]
     },
     "execution_count": 4,
     "metadata": {},
     "output_type": "execute_result"
    }
   ],
   "source": [
    "# part 1\n",
    "elements = list(map(parse_line, lines))\n",
    "result = elements[0]\n",
    "for i in range(1, len(elements)):\n",
    "    result = ['['] + result + elements[i] + [']']\n",
    "    result = reduce_elements(result)\n",
    "calculate_magnitude(result)[0]"
   ]
  },
  {
   "cell_type": "code",
   "execution_count": 5,
   "id": "49ea127a",
   "metadata": {
    "ExecuteTime": {
     "end_time": "2021-12-18T23:57:25.440170Z",
     "start_time": "2021-12-18T23:57:23.952568Z"
    }
   },
   "outputs": [
    {
     "data": {
      "text/plain": [
       "4779"
      ]
     },
     "execution_count": 5,
     "metadata": {},
     "output_type": "execute_result"
    }
   ],
   "source": [
    "# elements = list(map(parse_line, lines))\n",
    "max_magnitude = 0\n",
    "for element1 in elements:\n",
    "    for element2 in elements:\n",
    "        if element1 == element2:\n",
    "            continue\n",
    "        added_element = ['['] + deepcopy(element1) + deepcopy(element2) + [']']\n",
    "        added_element = reduce_elements(added_element)\n",
    "        magnitude = calculate_magnitude(added_element)[0]\n",
    "        if magnitude > max_magnitude:\n",
    "            max_magnitude = magnitude\n",
    "max_magnitude"
   ]
  }
 ],
 "metadata": {
  "kernelspec": {
   "display_name": "py9",
   "language": "python",
   "name": "py9"
  },
  "language_info": {
   "codemirror_mode": {
    "name": "ipython",
    "version": 3
   },
   "file_extension": ".py",
   "mimetype": "text/x-python",
   "name": "python",
   "nbconvert_exporter": "python",
   "pygments_lexer": "ipython3",
   "version": "3.9.7"
  }
 },
 "nbformat": 4,
 "nbformat_minor": 5
}
