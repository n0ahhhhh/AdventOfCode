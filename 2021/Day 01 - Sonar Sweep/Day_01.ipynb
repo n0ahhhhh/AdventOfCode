{
 "cells": [
  {
   "cell_type": "code",
   "execution_count": 13,
   "id": "b59ba3a7",
   "metadata": {
    "scrolled": true
   },
   "outputs": [],
   "source": [
    "#read in data and remove '\\n' characters\n",
    "depths = [int(line.rstrip('\\n')) for line in open(\"day_01.txt\")]"
   ]
  },
  {
   "cell_type": "code",
   "execution_count": 14,
   "id": "d6d995fe",
   "metadata": {},
   "outputs": [],
   "source": [
    "#part 1\n",
    "p1_ans = sum(x < y for x, y in zip(depths, depths[1:]))"
   ]
  },
  {
   "cell_type": "code",
   "execution_count": 15,
   "id": "f745c5bd",
   "metadata": {},
   "outputs": [],
   "source": [
    "#part 2\n",
    "p2_ans = sum(x < y for x,y in zip(depths, depths[3:]))"
   ]
  },
  {
   "cell_type": "code",
   "execution_count": 16,
   "id": "e11e0835",
   "metadata": {},
   "outputs": [
    {
     "name": "stdout",
     "output_type": "stream",
     "text": [
      "The answer for Part One is: 1709\n",
      "The answer for Part Two is: 1761\n"
     ]
    }
   ],
   "source": [
    "print(\"The answer for Part One is:\", p1_ans)\n",
    "print(\"The answer for Part Two is:\", p2_ans)"
   ]
  }
 ],
 "metadata": {
  "kernelspec": {
   "display_name": "Python 3",
   "language": "python",
   "name": "python3"
  },
  "language_info": {
   "codemirror_mode": {
    "name": "ipython",
    "version": 3
   },
   "file_extension": ".py",
   "mimetype": "text/x-python",
   "name": "python",
   "nbconvert_exporter": "python",
   "pygments_lexer": "ipython3",
   "version": "3.8.8"
  }
 },
 "nbformat": 4,
 "nbformat_minor": 5
}
